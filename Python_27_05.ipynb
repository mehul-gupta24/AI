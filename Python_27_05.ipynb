{
  "cells": [
    {
      "cell_type": "markdown",
      "metadata": {
        "id": "e1KSE5rhq_ur"
      },
      "source": [
        "#### Basic Syntax"
      ]
    },
    {
      "cell_type": "code",
      "execution_count": null,
      "metadata": {
        "id": "u_STF_bso9w1"
      },
      "outputs": [],
      "source": [
        "# This is syntax for python comment"
      ]
    },
    {
      "cell_type": "code",
      "execution_count": null,
      "metadata": {
        "colab": {
          "base_uri": "https://localhost:8080/"
        },
        "id": "NpY-OcYJpUii",
        "outputId": "8d0dd25e-0947-43f4-a5bf-21104fa4b468"
      },
      "outputs": [
        {
          "name": "stdout",
          "output_type": "stream",
          "text": [
            "Hello World\n"
          ]
        }
      ],
      "source": [
        "\"\"\"\n",
        "This is python syntax for paragraph.\n",
        "This can also used as multi-line comment.\n",
        "\"\"\"\n",
        "print(\"Hello World\")    # prints value or outcome of variable"
      ]
    },
    {
      "cell_type": "code",
      "execution_count": null,
      "metadata": {
        "id": "huSPYIwop08Z"
      },
      "outputs": [],
      "source": [
        "# Identifiers : names of Variables, Classes, Functions etc.\n",
        "var_1 = 10     # valid variable name to declare integers."
      ]
    },
    {
      "cell_type": "code",
      "execution_count": null,
      "metadata": {
        "colab": {
          "base_uri": "https://localhost:8080/"
        },
        "id": "RVUH18QkrQLI",
        "outputId": "26296f1a-87f2-4d9f-e719-b797607c8b58"
      },
      "outputs": [
        {
          "name": "stdout",
          "output_type": "stream",
          "text": [
            "<class 'int'>\n"
          ]
        }
      ],
      "source": [
        "print(type(var_1))    # type() : Returns data type of variable"
      ]
    },
    {
      "cell_type": "code",
      "execution_count": null,
      "metadata": {
        "colab": {
          "base_uri": "https://localhost:8080/",
          "height": 106
        },
        "id": "8RJMdcXtrTRD",
        "outputId": "ed9a70d7-dae2-49d2-96d0-be68c1d5fb7e"
      },
      "outputs": [
        {
          "ename": "SyntaxError",
          "evalue": "invalid decimal literal (<ipython-input-5-5a388c5d8170>, line 1)",
          "output_type": "error",
          "traceback": [
            "\u001b[0;36m  File \u001b[0;32m\"<ipython-input-5-5a388c5d8170>\"\u001b[0;36m, line \u001b[0;32m1\u001b[0m\n\u001b[0;31m    1var = 100           # Identifiers/variable name should not begin with numerical value\u001b[0m\n\u001b[0m    ^\u001b[0m\n\u001b[0;31mSyntaxError\u001b[0m\u001b[0;31m:\u001b[0m invalid decimal literal\n"
          ]
        }
      ],
      "source": [
        "1var = 100           # Identifiers/variable name should not begin with numerical value"
      ]
    },
    {
      "cell_type": "code",
      "execution_count": null,
      "metadata": {
        "colab": {
          "base_uri": "https://localhost:8080/",
          "height": 106
        },
        "id": "EahqXzssrmnj",
        "outputId": "9eb97d26-bd55-4c69-f061-1a74f442e4de"
      },
      "outputs": [
        {
          "ename": "SyntaxError",
          "evalue": "invalid syntax. Maybe you meant '==' or ':=' instead of '='? (<ipython-input-7-fb81ee1efb4b>, line 1)",
          "output_type": "error",
          "traceback": [
            "\u001b[0;36m  File \u001b[0;32m\"<ipython-input-7-fb81ee1efb4b>\"\u001b[0;36m, line \u001b[0;32m1\u001b[0m\n\u001b[0;31m    @var1 = 100\u001b[0m\n\u001b[0m     ^\u001b[0m\n\u001b[0;31mSyntaxError\u001b[0m\u001b[0;31m:\u001b[0m invalid syntax. Maybe you meant '==' or ':=' instead of '='?\n"
          ]
        }
      ],
      "source": [
        "@var1 = 100"
      ]
    },
    {
      "cell_type": "code",
      "execution_count": null,
      "metadata": {
        "id": "EaJ1PRBKr0OB"
      },
      "outputs": [],
      "source": [
        "var_1 = 12345678"
      ]
    },
    {
      "cell_type": "code",
      "execution_count": null,
      "metadata": {
        "id": "giQnI8_QsDTw"
      },
      "outputs": [],
      "source": [
        "_var = 12345678"
      ]
    },
    {
      "cell_type": "markdown",
      "metadata": {
        "id": "MpC_guAMsiMM"
      },
      "source": [
        "#### Keywords:\n",
        "    * Reserved Words in Python Programming."
      ]
    },
    {
      "cell_type": "code",
      "execution_count": null,
      "metadata": {
        "colab": {
          "base_uri": "https://localhost:8080/"
        },
        "id": "nrt-2I8VsQ3y",
        "outputId": "d4c9451a-b47c-4439-e0a5-774322f53816"
      },
      "outputs": [
        {
          "name": "stdout",
          "output_type": "stream",
          "text": [
            "['False', 'None', 'True', 'and', 'as', 'assert', 'async', 'await', 'break', 'class', 'continue', 'def', 'del', 'elif', 'else', 'except', 'finally', 'for', 'from', 'global', 'if', 'import', 'in', 'is', 'lambda', 'nonlocal', 'not', 'or', 'pass', 'raise', 'return', 'try', 'while', 'with', 'yield']\n"
          ]
        }
      ],
      "source": [
        "import keyword\n",
        "print(keyword.kwlist)"
      ]
    },
    {
      "cell_type": "code",
      "execution_count": null,
      "metadata": {
        "colab": {
          "base_uri": "https://localhost:8080/"
        },
        "id": "s4bbo5vgsscg",
        "outputId": "97722cb4-189e-4b13-f314-a0500ca1dde9"
      },
      "outputs": [
        {
          "data": {
            "text/plain": [
              "35"
            ]
          },
          "execution_count": 11,
          "metadata": {},
          "output_type": "execute_result"
        }
      ],
      "source": [
        "len(keyword.kwlist)   # len() - length function - build-in function that returns size of variable."
      ]
    },
    {
      "cell_type": "markdown",
      "metadata": {
        "id": "Q5yzV0oFt8h2"
      },
      "source": [
        "#### Primitive Data Types\n",
        "* Interger\n",
        "* Float\n",
        "* Strings\n",
        "* Boolean\n",
        "* Complex"
      ]
    },
    {
      "cell_type": "code",
      "execution_count": null,
      "metadata": {
        "id": "6MDINCDfs1_P"
      },
      "outputs": [],
      "source": [
        "intvar = 1000                             # Interger Data type\n",
        "floatvar = 12.568765                      # Float Data type\n",
        "strvar = 'This is string data type'       # String data type\n",
        "strvar1 = \"This is also string data type\"\n",
        "boolvar = True                            # Boolean Data type\n",
        "boolvar1 = False\n",
        "compvar = 34 + 67j                        # Complex data types (real + imaginary)"
      ]
    },
    {
      "cell_type": "code",
      "execution_count": null,
      "metadata": {
        "colab": {
          "base_uri": "https://localhost:8080/"
        },
        "collapsed": true,
        "id": "tTTgI4K3uwzN",
        "outputId": "5e03257a-91ed-4687-ad1f-1ae00bd0742a"
      },
      "outputs": [
        {
          "name": "stdout",
          "output_type": "stream",
          "text": [
            "1000\n",
            "<class 'int'>\n",
            "This is string data type\n",
            "<class 'str'>\n",
            "12.568765\n",
            "<class 'float'>\n",
            "True\n",
            "<class 'bool'>\n"
          ]
        }
      ],
      "source": [
        "print(intvar)\n",
        "print(type(intvar))\n",
        "print(strvar)\n",
        "print(type(strvar))\n",
        "print(floatvar)\n",
        "print(type(floatvar))\n",
        "print(boolvar)\n",
        "print(type(boolvar))"
      ]
    },
    {
      "cell_type": "markdown",
      "metadata": {
        "id": "TqnjhJSwU4hd"
      },
      "source": [
        "#### Data Structure\n",
        "  * Collection of Data.\n",
        "\n",
        "1. Lists\n",
        "  * Lists are mutable collection of heterogenous data types.\n",
        "  * Lists are declared within [ ] or list().\n",
        "  * List can also have duplicate values."
      ]
    },
    {
      "cell_type": "code",
      "execution_count": null,
      "metadata": {
        "id": "LOXxlov9u1tT"
      },
      "outputs": [],
      "source": [
        "# Empty List Declaration\n",
        "list_1 = []"
      ]
    },
    {
      "cell_type": "code",
      "execution_count": null,
      "metadata": {
        "colab": {
          "base_uri": "https://localhost:8080/"
        },
        "id": "HHnzVTxBVmyq",
        "outputId": "eecee681-fca4-4d0a-db28-1f6ee4f70e57"
      },
      "outputs": [
        {
          "name": "stdout",
          "output_type": "stream",
          "text": [
            "[True, 'ABCD', 12345678, 'This is List Data', True, False, 123456.89]\n"
          ]
        }
      ],
      "source": [
        "list_1 = [True, 'ABCD', 12345678, 'This is List Data', True, False, 123456.89]\n",
        "print(list_1)"
      ]
    },
    {
      "cell_type": "code",
      "execution_count": null,
      "metadata": {
        "colab": {
          "base_uri": "https://localhost:8080/"
        },
        "id": "sB2caNX2V7h1",
        "outputId": "0402b30f-df44-4372-b796-216cc1439d41"
      },
      "outputs": [
        {
          "name": "stdout",
          "output_type": "stream",
          "text": [
            "<class 'list'>\n"
          ]
        }
      ],
      "source": [
        "print(type(list_1))"
      ]
    },
    {
      "cell_type": "markdown",
      "metadata": {
        "id": "1QxKpkJzWKXO"
      },
      "source": [
        "  * List Methods"
      ]
    },
    {
      "cell_type": "code",
      "execution_count": null,
      "metadata": {
        "id": "Z6a_oy8cV9Vw"
      },
      "outputs": [],
      "source": [
        "list_1.append(98765.12)    # New value will be inserted in the end of list - append()"
      ]
    },
    {
      "cell_type": "code",
      "execution_count": null,
      "metadata": {
        "id": "VrnEitG4WcaP"
      },
      "outputs": [],
      "source": [
        "list_2 = list_1.copy()     # copy the values from list_1 to list_2"
      ]
    },
    {
      "cell_type": "code",
      "execution_count": null,
      "metadata": {
        "id": "7l4FnQp5Wp_x"
      },
      "outputs": [],
      "source": [
        "list_3 = list_1            # copy by reference = Deep Copy."
      ]
    },
    {
      "cell_type": "code",
      "execution_count": null,
      "metadata": {
        "id": "7wbvsGMoXj4G"
      },
      "outputs": [],
      "source": [
        "list_1.append('New Value')"
      ]
    },
    {
      "cell_type": "code",
      "execution_count": null,
      "metadata": {
        "colab": {
          "base_uri": "https://localhost:8080/"
        },
        "id": "jdYEDpMGX-xH",
        "outputId": "35b85392-5ccb-41dd-ebc9-2964abeb4553"
      },
      "outputs": [
        {
          "name": "stdout",
          "output_type": "stream",
          "text": [
            "[True, 'ABCD', 12345678, 'This is List Data', True, False, 123456.89, 98765.12, 'New Value']\n",
            "[True, 'ABCD', 12345678, 'This is List Data', True, False, 123456.89, 98765.12]\n",
            "[True, 'ABCD', 12345678, 'This is List Data', True, False, 123456.89, 98765.12, 'New Value']\n"
          ]
        }
      ],
      "source": [
        "print(list_1)\n",
        "print(list_2)\n",
        "print(list_3)"
      ]
    },
    {
      "cell_type": "code",
      "execution_count": null,
      "metadata": {
        "id": "3v4I-U6FYF3m"
      },
      "outputs": [],
      "source": [
        "# extend method - update list with multiple values.\n",
        "list_1.extend([112233, True, 23+56j])      # Insert multiple values in the end of list"
      ]
    },
    {
      "cell_type": "code",
      "execution_count": null,
      "metadata": {
        "colab": {
          "base_uri": "https://localhost:8080/"
        },
        "id": "P1pO8PsrYx0n",
        "outputId": "196d7c09-5956-404d-e811-e2314ad708d4"
      },
      "outputs": [
        {
          "name": "stdout",
          "output_type": "stream",
          "text": [
            "[True, 'ABCD', 12345678, 'This is List Data', True, False, 123456.89, 98765.12, 'New Value', 112233, True, (23+56j)]\n"
          ]
        }
      ],
      "source": [
        "print(list_1)"
      ]
    },
    {
      "cell_type": "code",
      "execution_count": null,
      "metadata": {
        "id": "I8kN879WY0zB"
      },
      "outputs": [],
      "source": [
        "list_1.insert(3, 'Python')"
      ]
    },
    {
      "cell_type": "code",
      "execution_count": null,
      "metadata": {
        "colab": {
          "base_uri": "https://localhost:8080/"
        },
        "id": "3V1XsRy8bO5y",
        "outputId": "16511fe1-ea54-4de0-fcd5-89e7cac118ae"
      },
      "outputs": [
        {
          "data": {
            "text/plain": [
              "(23+56j)"
            ]
          },
          "execution_count": 27,
          "metadata": {},
          "output_type": "execute_result"
        }
      ],
      "source": [
        "list_1.pop()      # It removes last value from list."
      ]
    },
    {
      "cell_type": "code",
      "execution_count": null,
      "metadata": {
        "colab": {
          "base_uri": "https://localhost:8080/",
          "height": 36
        },
        "id": "QWCHB-fxbYmM",
        "outputId": "156ce588-52cc-496f-ea09-5150df75a53f"
      },
      "outputs": [
        {
          "data": {
            "application/vnd.google.colaboratory.intrinsic+json": {
              "type": "string"
            },
            "text/plain": [
              "'This is List Data'"
            ]
          },
          "execution_count": 28,
          "metadata": {},
          "output_type": "execute_result"
        }
      ],
      "source": [
        "list_1.pop(4)     # Value at Index 4 will be removed."
      ]
    },
    {
      "cell_type": "code",
      "execution_count": null,
      "metadata": {
        "id": "80qTXY4TbhL3"
      },
      "outputs": [],
      "source": [
        "list_1.remove('New Value')    # Removes value by value"
      ]
    },
    {
      "cell_type": "code",
      "execution_count": null,
      "metadata": {
        "colab": {
          "base_uri": "https://localhost:8080/"
        },
        "id": "GEmcNIYsbsu_",
        "outputId": "ed113a85-e266-4681-feb4-57b3d01efe71"
      },
      "outputs": [
        {
          "data": {
            "text/plain": [
              "6"
            ]
          },
          "execution_count": 30,
          "metadata": {},
          "output_type": "execute_result"
        }
      ],
      "source": [
        "list_1.index(123456.89)"
      ]
    },
    {
      "cell_type": "code",
      "execution_count": null,
      "metadata": {
        "colab": {
          "base_uri": "https://localhost:8080/"
        },
        "id": "Xa3Y1tV4b81t",
        "outputId": "48713fe0-beab-47a4-83ae-095a055e289d"
      },
      "outputs": [
        {
          "name": "stdout",
          "output_type": "stream",
          "text": [
            "[True, 112233, 98765.12, 123456.89, False, True, 'Python', 12345678, 'ABCD', True]\n"
          ]
        }
      ],
      "source": [
        "list_1.reverse()\n",
        "print(list_1)"
      ]
    },
    {
      "cell_type": "code",
      "execution_count": null,
      "metadata": {
        "colab": {
          "base_uri": "https://localhost:8080/"
        },
        "collapsed": true,
        "id": "TigEWRZWcHSK",
        "outputId": "e607186c-0fb2-4f0c-b473-6f4b9c1674f8"
      },
      "outputs": [
        {
          "data": {
            "text/plain": [
              "[True,\n",
              " 112233,\n",
              " 98765.12,\n",
              " 123456.89,\n",
              " False,\n",
              " True,\n",
              " 'Python',\n",
              " 12345678,\n",
              " 'ABCD',\n",
              " True]"
            ]
          },
          "execution_count": 34,
          "metadata": {},
          "output_type": "execute_result"
        }
      ],
      "source": [
        "list_1"
      ]
    },
    {
      "cell_type": "markdown",
      "metadata": {
        "id": "6JUCUi9FeI8z"
      },
      "source": [
        "#### Tuples\n",
        "    * Tuples are immutable collection of hetegenous data types.\n",
        "    * Tuples are declared within () or using tuple()\n",
        "    * Iterating over Tuple values are faster comapred to iterating over list."
      ]
    },
    {
      "cell_type": "code",
      "execution_count": null,
      "metadata": {
        "id": "KsU2cDT4dO8u"
      },
      "outputs": [],
      "source": [
        "# Empty Tuple\n",
        "tuple_1 = ()"
      ]
    },
    {
      "cell_type": "code",
      "execution_count": null,
      "metadata": {
        "colab": {
          "base_uri": "https://localhost:8080/"
        },
        "id": "F8EYZCiUe8NT",
        "outputId": "bd6c6228-a1ed-4261-885b-44bf18895a40"
      },
      "outputs": [
        {
          "name": "stdout",
          "output_type": "stream",
          "text": [
            "(10, 203, 4537, 56544.123, 88.01)\n"
          ]
        }
      ],
      "source": [
        "tuple_1 = (10, 203, 4537, 56544.123, 88.01)\n",
        "print(tuple_1)"
      ]
    },
    {
      "cell_type": "code",
      "execution_count": null,
      "metadata": {
        "id": "Q4eVk28CfFDR"
      },
      "outputs": [],
      "source": [
        "tuple_2 = ('Tom', 32.6755, True, False, 'Jerry', 10110, 34+67j)\n",
        "tuple_3 = ([1020304050,'Harry','Mickey'],45.7891,True,('New York','Venice'))"
      ]
    },
    {
      "cell_type": "code",
      "execution_count": null,
      "metadata": {
        "colab": {
          "base_uri": "https://localhost:8080/"
        },
        "id": "Ki2v0ElBfj0e",
        "outputId": "dc0e03a9-331c-47f4-c3b9-f5d8c7c69fb0"
      },
      "outputs": [
        {
          "data": {
            "text/plain": [
              "1"
            ]
          },
          "execution_count": 40,
          "metadata": {},
          "output_type": "execute_result"
        }
      ],
      "source": [
        "tuple_2.count(True)   # count() returns occurances of tuple value."
      ]
    },
    {
      "cell_type": "code",
      "execution_count": null,
      "metadata": {
        "colab": {
          "base_uri": "https://localhost:8080/"
        },
        "id": "z4COfEz5fyt_",
        "outputId": "2788ee66-5240-4fa4-de7a-a11db5ff98c3"
      },
      "outputs": [
        {
          "data": {
            "text/plain": [
              "2"
            ]
          },
          "execution_count": 41,
          "metadata": {},
          "output_type": "execute_result"
        }
      ],
      "source": [
        "tuple_2.index(True)   # index returns index position"
      ]
    },
    {
      "cell_type": "code",
      "execution_count": null,
      "metadata": {
        "id": "qHWteoPuhNDD"
      },
      "outputs": [],
      "source": [
        "# Concatination\n",
        "tuple_4 = tuple_2 + tuple_3"
      ]
    },
    {
      "cell_type": "code",
      "execution_count": null,
      "metadata": {
        "colab": {
          "base_uri": "https://localhost:8080/"
        },
        "id": "gjmU6_Nyhrd-",
        "outputId": "69bfaf19-cdfa-4633-9132-0ab301e00a27"
      },
      "outputs": [
        {
          "name": "stdout",
          "output_type": "stream",
          "text": [
            "('Tom', 32.6755, True, False, 'Jerry', 10110, (34+67j), [1020304050, 'Harry', 'Mickey'], 45.7891, True, ('New York', 'Venice'))\n"
          ]
        }
      ],
      "source": [
        "print(tuple_4)"
      ]
    },
    {
      "cell_type": "markdown",
      "metadata": {
        "id": "2hNgylNJi7KC"
      },
      "source": [
        "#### Dictionary\n",
        "    * It is mutable collection of data types in Python\n",
        "    * A python dictionary is collection of key and value pair seperated by \":\" and enclosed in curly braces {}.\n",
        "    * Keys must be unique in dictionary and values can be duplicate."
      ]
    },
    {
      "cell_type": "code",
      "execution_count": null,
      "metadata": {
        "id": "duc3bhyhi1wt"
      },
      "outputs": [],
      "source": [
        "dict_1 = {}     # Declare empty dictionary."
      ]
    },
    {
      "cell_type": "code",
      "execution_count": null,
      "metadata": {
        "colab": {
          "base_uri": "https://localhost:8080/"
        },
        "id": "jLRJn64FjcCS",
        "outputId": "60a30fec-8c27-4497-c1cc-8c75403ecb2b"
      },
      "outputs": [
        {
          "name": "stdout",
          "output_type": "stream",
          "text": [
            "{'Name': 'Subhendu', 'Gender': 'Male', 'DOB': 2000, 'Job': 'Data Analyst'}\n"
          ]
        }
      ],
      "source": [
        "dict_1 = {'Name':'Subhendu', 'Gender':'Male', 'DOB':2000, 'Job':'Data Analyst'}\n",
        "print(dict_1)"
      ]
    },
    {
      "cell_type": "code",
      "execution_count": null,
      "metadata": {
        "colab": {
          "base_uri": "https://localhost:8080/",
          "height": 36
        },
        "id": "S6yiSlyojxB5",
        "outputId": "337029d9-fcec-43a6-f88d-2adc8230d4a8"
      },
      "outputs": [
        {
          "data": {
            "application/vnd.google.colaboratory.intrinsic+json": {
              "type": "string"
            },
            "text/plain": [
              "'Subhendu'"
            ]
          },
          "execution_count": 47,
          "metadata": {},
          "output_type": "execute_result"
        }
      ],
      "source": [
        "dict_1['Name']   # Access individual value using key."
      ]
    },
    {
      "cell_type": "code",
      "execution_count": null,
      "metadata": {
        "id": "SF64juYKj7TH"
      },
      "outputs": [],
      "source": [
        "# Insert a new key.\n",
        "dict_1['City'] = 'Bangalore'"
      ]
    },
    {
      "cell_type": "code",
      "execution_count": null,
      "metadata": {
        "id": "A7JKJSuUkhoN"
      },
      "outputs": [],
      "source": [
        "# Update existing key with values.\n",
        "dict_1['City'] = ['Bangalore', 'Delhi', 'Mumbai']"
      ]
    },
    {
      "cell_type": "code",
      "execution_count": null,
      "metadata": {
        "id": "DMPXQMFzk2iu"
      },
      "outputs": [],
      "source": [
        "# Nested Dict\n",
        "my_emp = {'Ex1001':{'Name':'Subhendu', 'Gender':'Male', 'DOB':2000, 'Job':'Data Analyst'},\n",
        "          'Ex1002':{'Name':'Aryan', 'Gender':'Male', 'DOB':2001, 'Job':'HR'},\n",
        "          'Ex1003':{'Name':'Pradip', 'Gender':'Male', 'DOB':1999, 'Job':'Associate'}\n",
        "          }"
      ]
    },
    {
      "cell_type": "code",
      "execution_count": null,
      "metadata": {
        "colab": {
          "base_uri": "https://localhost:8080/"
        },
        "id": "j4yG3fSnlktq",
        "outputId": "4c8ee2f5-21cb-4e4f-d46a-a6c11c9e5ab1"
      },
      "outputs": [
        {
          "data": {
            "text/plain": [
              "{'Name': 'Aryan', 'Gender': 'Male', 'DOB': 2001, 'Job': 'HR'}"
            ]
          },
          "execution_count": 52,
          "metadata": {},
          "output_type": "execute_result"
        }
      ],
      "source": [
        "my_emp['Ex1002']"
      ]
    },
    {
      "cell_type": "code",
      "execution_count": null,
      "metadata": {
        "colab": {
          "base_uri": "https://localhost:8080/",
          "height": 36
        },
        "id": "NnQy_MtJlsvI",
        "outputId": "7fd59859-621c-49ef-bc78-1f5c3eea7dcf"
      },
      "outputs": [
        {
          "data": {
            "application/vnd.google.colaboratory.intrinsic+json": {
              "type": "string"
            },
            "text/plain": [
              "'HR'"
            ]
          },
          "execution_count": 53,
          "metadata": {},
          "output_type": "execute_result"
        }
      ],
      "source": [
        "my_emp['Ex1002']['Job']"
      ]
    },
    {
      "cell_type": "code",
      "execution_count": null,
      "metadata": {
        "colab": {
          "base_uri": "https://localhost:8080/"
        },
        "id": "E3EW5tT2mP0N",
        "outputId": "95fd6172-ba39-4c76-a4a8-4b945b1adc01"
      },
      "outputs": [
        {
          "data": {
            "text/plain": [
              "dict_items([('Name', 'Subhendu'), ('Gender', 'Male'), ('DOB', 2000), ('Job', 'Data Analyst'), ('City', ['Bangalore', 'Delhi', 'Mumbai'])])"
            ]
          },
          "execution_count": 55,
          "metadata": {},
          "output_type": "execute_result"
        }
      ],
      "source": [
        "dict_1.items()     # returns tuple of list, here tuple is (key,value)"
      ]
    },
    {
      "cell_type": "code",
      "execution_count": null,
      "metadata": {
        "colab": {
          "base_uri": "https://localhost:8080/"
        },
        "id": "n51yhlzKnKd7",
        "outputId": "b5713a68-2857-43a8-9516-5ceb5a6cadf8"
      },
      "outputs": [
        {
          "data": {
            "text/plain": [
              "dict_keys(['Name', 'Gender', 'DOB', 'Job', 'City'])"
            ]
          },
          "execution_count": 56,
          "metadata": {},
          "output_type": "execute_result"
        }
      ],
      "source": [
        "dict_1.keys()"
      ]
    },
    {
      "cell_type": "code",
      "execution_count": null,
      "metadata": {
        "colab": {
          "base_uri": "https://localhost:8080/"
        },
        "id": "NpS8xM0YnkVh",
        "outputId": "d40e04b7-48e5-4380-b475-a028e93dfe46"
      },
      "outputs": [
        {
          "data": {
            "text/plain": [
              "dict_values(['Subhendu', 'Male', 2000, 'Data Analyst', ['Bangalore', 'Delhi', 'Mumbai']])"
            ]
          },
          "execution_count": 57,
          "metadata": {},
          "output_type": "execute_result"
        }
      ],
      "source": [
        "dict_1.values()"
      ]
    },
    {
      "cell_type": "code",
      "execution_count": null,
      "metadata": {
        "id": "jr_WAD76nmYl"
      },
      "outputs": [],
      "source": [
        "dict_1.update({'Contact':'+91-9876543210','Marital Status':'Married'})"
      ]
    },
    {
      "cell_type": "code",
      "execution_count": null,
      "metadata": {
        "colab": {
          "base_uri": "https://localhost:8080/"
        },
        "id": "Pq5t35CBoI_V",
        "outputId": "731a96a5-8d4e-4c55-b112-b945963f90a5"
      },
      "outputs": [
        {
          "name": "stdout",
          "output_type": "stream",
          "text": [
            "{'Name': 'Subhendu', 'Gender': 'Male', 'DOB': 2000, 'Job': 'Data Analyst', 'City': ['Bangalore', 'Delhi', 'Mumbai'], 'Contact': '+91-9876543210', 'Marital Status': 'Married'}\n"
          ]
        }
      ],
      "source": [
        "print(dict_1)"
      ]
    },
    {
      "cell_type": "markdown",
      "metadata": {
        "id": "-Sir1l8crggh"
      },
      "source": [
        "#### Sets\n",
        "    * Sets are unique collection of elements. No duplicate values are allowed.\n",
        "    * Sets are unordered collection.\n",
        "    * Sets doesn't have any indexes, hence position will be not fixed."
      ]
    },
    {
      "cell_type": "code",
      "execution_count": null,
      "metadata": {
        "id": "2j5E32rVoLhk"
      },
      "outputs": [],
      "source": [
        "myset = set()      # Empty Sets"
      ]
    },
    {
      "cell_type": "code",
      "execution_count": null,
      "metadata": {
        "colab": {
          "base_uri": "https://localhost:8080/"
        },
        "id": "0GMg_VV0r29y",
        "outputId": "870de706-1aa8-4123-fcd7-8a90a8bb643e"
      },
      "outputs": [
        {
          "name": "stdout",
          "output_type": "stream",
          "text": [
            "{70, 40, 10, 80, 50, 20, 60, 30}\n"
          ]
        }
      ],
      "source": [
        "myset = {10, 20, 30, 40, 50, 60, 70, 80}\n",
        "print(myset)"
      ]
    },
    {
      "cell_type": "code",
      "execution_count": null,
      "metadata": {
        "id": "afDxZqejr8sq"
      },
      "outputs": [],
      "source": [
        "myset1 = {'A','B','C','D','E','F'}\n",
        "myset2 = {'G','H','I','K','D','E','L'}\n",
        "myset3 = {'L','M','O','P','Q','F','E'}"
      ]
    },
    {
      "cell_type": "code",
      "execution_count": null,
      "metadata": {
        "id": "9AxQNA8lsXdh"
      },
      "outputs": [],
      "source": [
        "myset1.add('P')   # Insert new value"
      ]
    },
    {
      "cell_type": "code",
      "execution_count": null,
      "metadata": {
        "colab": {
          "base_uri": "https://localhost:8080/"
        },
        "id": "GfusGajascsb",
        "outputId": "8f4b92b4-f7cd-424f-fefe-b2b3366dbe27"
      },
      "outputs": [
        {
          "data": {
            "text/plain": [
              "{'A', 'B', 'C', 'D', 'E', 'F', 'G', 'H', 'I', 'K', 'L', 'P'}"
            ]
          },
          "execution_count": 64,
          "metadata": {},
          "output_type": "execute_result"
        }
      ],
      "source": [
        "myset1.union(myset2)    # concatination between two sets."
      ]
    },
    {
      "cell_type": "code",
      "execution_count": null,
      "metadata": {
        "colab": {
          "base_uri": "https://localhost:8080/"
        },
        "id": "ijuveQ7MsvVe",
        "outputId": "2fdb49c5-11ec-46e2-9d8b-347106260d15"
      },
      "outputs": [
        {
          "data": {
            "text/plain": [
              "{'A', 'B', 'C', 'D', 'E', 'F', 'G', 'H', 'I', 'K', 'L', 'M', 'O', 'P', 'Q'}"
            ]
          },
          "execution_count": 65,
          "metadata": {},
          "output_type": "execute_result"
        }
      ],
      "source": [
        "myset1.union(myset2, myset3)    # union between all three sets."
      ]
    },
    {
      "cell_type": "code",
      "execution_count": null,
      "metadata": {
        "colab": {
          "base_uri": "https://localhost:8080/"
        },
        "id": "evx8eELqs2lf",
        "outputId": "e7678bfb-ce83-48c4-f3b4-7e25c4baa922"
      },
      "outputs": [
        {
          "data": {
            "text/plain": [
              "{'D', 'E'}"
            ]
          },
          "execution_count": 66,
          "metadata": {},
          "output_type": "execute_result"
        }
      ],
      "source": [
        "myset1.intersection(myset2)   # insersection between two sets - common values between both"
      ]
    },
    {
      "cell_type": "code",
      "execution_count": null,
      "metadata": {
        "colab": {
          "base_uri": "https://localhost:8080/"
        },
        "id": "pg95uwMstE2N",
        "outputId": "85cf5c14-ccdc-4ecd-a3ac-0c08cc66e0e7"
      },
      "outputs": [
        {
          "data": {
            "text/plain": [
              "{'D', 'E'}"
            ]
          },
          "execution_count": 67,
          "metadata": {},
          "output_type": "execute_result"
        }
      ],
      "source": [
        "myset1 & myset2     # Intersection"
      ]
    },
    {
      "cell_type": "code",
      "execution_count": null,
      "metadata": {
        "colab": {
          "base_uri": "https://localhost:8080/"
        },
        "id": "MNBlAHuatLxW",
        "outputId": "c4e3c4db-c394-4f06-a157-463949ad159f"
      },
      "outputs": [
        {
          "data": {
            "text/plain": [
              "{'A', 'B', 'C', 'D', 'E', 'F', 'G', 'H', 'I', 'K', 'L', 'P'}"
            ]
          },
          "execution_count": 68,
          "metadata": {},
          "output_type": "execute_result"
        }
      ],
      "source": [
        "myset1 | myset2    # Union"
      ]
    },
    {
      "cell_type": "code",
      "execution_count": null,
      "metadata": {
        "colab": {
          "base_uri": "https://localhost:8080/"
        },
        "id": "NsqJqJMftOKb",
        "outputId": "93373c11-6229-4709-9077-b6929506e9ad"
      },
      "outputs": [
        {
          "data": {
            "text/plain": [
              "{'A', 'B', 'C', 'F', 'P'}"
            ]
          },
          "execution_count": 69,
          "metadata": {},
          "output_type": "execute_result"
        }
      ],
      "source": [
        "myset1 - myset2"
      ]
    },
    {
      "cell_type": "code",
      "execution_count": null,
      "metadata": {
        "colab": {
          "base_uri": "https://localhost:8080/"
        },
        "id": "1D6DKJ4Rtayi",
        "outputId": "29e89e0b-5a5b-4087-95e1-328803c2359f"
      },
      "outputs": [
        {
          "data": {
            "text/plain": [
              "{'A', 'B', 'C', 'F', 'P'}"
            ]
          },
          "execution_count": 70,
          "metadata": {},
          "output_type": "execute_result"
        }
      ],
      "source": [
        "myset1.difference(myset2)"
      ]
    },
    {
      "cell_type": "code",
      "execution_count": null,
      "metadata": {
        "colab": {
          "base_uri": "https://localhost:8080/"
        },
        "id": "O9IlUFnktxls",
        "outputId": "3d582aab-fc9e-48b7-88c5-3d8b561c3b83"
      },
      "outputs": [
        {
          "data": {
            "text/plain": [
              "{'G', 'H', 'I', 'K', 'L'}"
            ]
          },
          "execution_count": 71,
          "metadata": {},
          "output_type": "execute_result"
        }
      ],
      "source": [
        "myset2.difference(myset1)"
      ]
    },
    {
      "cell_type": "code",
      "execution_count": null,
      "metadata": {
        "colab": {
          "base_uri": "https://localhost:8080/",
          "height": 36
        },
        "id": "6VzODKmVt1ko",
        "outputId": "654402b9-b485-40c1-d1f1-ba3e3e145b7d"
      },
      "outputs": [
        {
          "data": {
            "application/vnd.google.colaboratory.intrinsic+json": {
              "type": "string"
            },
            "text/plain": [
              "'I'"
            ]
          },
          "execution_count": 72,
          "metadata": {},
          "output_type": "execute_result"
        }
      ],
      "source": [
        "myset2.pop()"
      ]
    },
    {
      "cell_type": "markdown",
      "metadata": {
        "id": "BvJlv4sIugFG"
      },
      "source": [
        "#### Arithematic Operations"
      ]
    },
    {
      "cell_type": "code",
      "execution_count": null,
      "metadata": {
        "colab": {
          "base_uri": "https://localhost:8080/"
        },
        "id": "dI9KZs0_ub-Z",
        "outputId": "762c0a0e-7122-4c63-bc16-7bcd24a90702"
      },
      "outputs": [
        {
          "name": "stdout",
          "output_type": "stream",
          "text": [
            "37\n",
            "17\n",
            "270\n",
            "2.7\n",
            "2\n",
            "7\n"
          ]
        }
      ],
      "source": [
        "a = 27\n",
        "b = 10\n",
        "print(a + b)\n",
        "print(a - b)\n",
        "print(a * b)\n",
        "print(a / b)\n",
        "print(a // b)      # Floor Division\n",
        "print(a % b)       # Remainder"
      ]
    },
    {
      "cell_type": "markdown",
      "metadata": {
        "id": "ZrO8xCEivE39"
      },
      "source": [
        "#### Comaprison Operations"
      ]
    },
    {
      "cell_type": "code",
      "execution_count": null,
      "metadata": {
        "colab": {
          "base_uri": "https://localhost:8080/"
        },
        "id": "M2VcgocHuzNy",
        "outputId": "0f4c01ca-36e5-4ec0-db9c-97f287512e67"
      },
      "outputs": [
        {
          "name": "stdout",
          "output_type": "stream",
          "text": [
            "False\n",
            "True\n",
            "False\n",
            "True\n",
            "False\n",
            "True\n"
          ]
        }
      ],
      "source": [
        "# Return Boolean Output by compairing two values\n",
        "a = 27\n",
        "b = 10\n",
        "print(a == b)\n",
        "print(a >= b)\n",
        "print(a <= b)\n",
        "print(a > b)\n",
        "print(a < b)\n",
        "print(a != b)"
      ]
    },
    {
      "cell_type": "markdown",
      "metadata": {
        "id": "xBysi4zUwC9i"
      },
      "source": [
        "#### Indexing & Slicing of Lists & Tuples"
      ]
    },
    {
      "cell_type": "code",
      "execution_count": null,
      "metadata": {
        "colab": {
          "base_uri": "https://localhost:8080/"
        },
        "id": "KACRTDkXv0Bm",
        "outputId": "ceb8dcc2-d7ac-4cfb-e2f3-283e56da332d"
      },
      "outputs": [
        {
          "data": {
            "text/plain": [
              "12345678"
            ]
          },
          "execution_count": 76,
          "metadata": {},
          "output_type": "execute_result"
        }
      ],
      "source": [
        "list_1 = [True, 'ABCD', 12345678, 'This is List Data', True, False, 123456.89]\n",
        "list_1[2]    # Indexing"
      ]
    },
    {
      "cell_type": "code",
      "execution_count": null,
      "metadata": {
        "colab": {
          "base_uri": "https://localhost:8080/"
        },
        "id": "0oh46OmLwfc5",
        "outputId": "5dcb7ff6-2ef2-4389-e43e-6dd9eb99c238"
      },
      "outputs": [
        {
          "data": {
            "text/plain": [
              "123456.89"
            ]
          },
          "execution_count": 77,
          "metadata": {},
          "output_type": "execute_result"
        }
      ],
      "source": [
        "list_1[-1]    # Indexing"
      ]
    },
    {
      "cell_type": "code",
      "execution_count": null,
      "metadata": {
        "colab": {
          "base_uri": "https://localhost:8080/"
        },
        "id": "zlv8C0Xrwxpx",
        "outputId": "c7fa65fa-f333-4e32-e294-970674361652"
      },
      "outputs": [
        {
          "name": "stdout",
          "output_type": "stream",
          "text": [
            "False\n",
            "123456.89\n"
          ]
        }
      ],
      "source": [
        "tuple_1 = (True, 'ABCD', 12345678, 'This is List Data', True, False, 123456.89)\n",
        "print(tuple_1[5])\n",
        "print(tuple_1[-1])"
      ]
    },
    {
      "cell_type": "code",
      "execution_count": null,
      "metadata": {
        "colab": {
          "base_uri": "https://localhost:8080/"
        },
        "id": "W4FNXMpiwxQr",
        "outputId": "5ce16acb-5a79-498a-dfd9-56f0391f88c1"
      },
      "outputs": [
        {
          "data": {
            "text/plain": [
              "('ABCD', 12345678, 'This is List Data', True)"
            ]
          },
          "execution_count": 81,
          "metadata": {},
          "output_type": "execute_result"
        }
      ],
      "source": [
        "tuple_1 = (True, 'ABCD', 12345678, 'This is List Data', True, False, 123456.89)\n",
        "tuple_1[1:5]"
      ]
    },
    {
      "cell_type": "code",
      "execution_count": null,
      "metadata": {
        "colab": {
          "base_uri": "https://localhost:8080/"
        },
        "id": "RY7iRGUawxEv",
        "outputId": "5a3e1f63-89d9-41bf-dd1f-e57a723be431"
      },
      "outputs": [
        {
          "data": {
            "text/plain": [
              "[12345678, 'This is List Data', True, False]"
            ]
          },
          "execution_count": 82,
          "metadata": {},
          "output_type": "execute_result"
        }
      ],
      "source": [
        "list_1 = [True, 'ABCD', 12345678, 'This is List Data', True, False, 123456.89]\n",
        "list_1[2:6]"
      ]
    },
    {
      "cell_type": "markdown",
      "metadata": {
        "id": "sbeFsLgUwsMg"
      },
      "source": [
        "##### Control Flow"
      ]
    },
    {
      "cell_type": "code",
      "execution_count": null,
      "metadata": {
        "colab": {
          "base_uri": "https://localhost:8080/"
        },
        "id": "5EQDGCFWwjlc",
        "outputId": "a67c7ed3-4e61-4ce7-c7d4-c40b08deb8c2"
      },
      "outputs": [
        {
          "name": "stdout",
          "output_type": "stream",
          "text": [
            "Number is less than value 15.\n",
            "Outside if block.\n"
          ]
        }
      ],
      "source": [
        "num = 14\n",
        "if num < 15:\n",
        "    print(\"Number is less than value 15.\")\n",
        "\n",
        "# Default Statement\n",
        "print(\"Outside if block.\")"
      ]
    },
    {
      "cell_type": "code",
      "execution_count": null,
      "metadata": {
        "colab": {
          "base_uri": "https://localhost:8080/"
        },
        "id": "JjkqkmtLye_e",
        "outputId": "2abe5b1c-2d08-4525-f5ae-97afc5b74b8d"
      },
      "outputs": [
        {
          "name": "stdout",
          "output_type": "stream",
          "text": [
            "Enter the Age: 35\n",
            "Middle Aged\n"
          ]
        }
      ],
      "source": [
        "# if .. elif(else if) ... else\n",
        "age = int(input(\"Enter the Age: \"))\n",
        "if age < 18:\n",
        "    print(\"Teenager\")\n",
        "elif age >= 18 and age <= 30:\n",
        "    print(\"Young\")\n",
        "elif age >= 31 and age <= 55:\n",
        "    print(\"Middle Aged\")\n",
        "else:\n",
        "    print(\"Old\")"
      ]
    },
    {
      "cell_type": "markdown",
      "metadata": {
        "id": "KY_K0BNb0rSN"
      },
      "source": [
        "#### For & While Loops"
      ]
    },
    {
      "cell_type": "code",
      "execution_count": null,
      "metadata": {
        "colab": {
          "base_uri": "https://localhost:8080/"
        },
        "id": "GPVT29wN0pu9",
        "outputId": "c23b7fb4-9798-4c7a-90f5-769163c4e0ec"
      },
      "outputs": [
        {
          "name": "stdout",
          "output_type": "stream",
          "text": [
            "Total Sum:  45\n"
          ]
        }
      ],
      "source": [
        "num = [1, 2, 3, 4, 5, 6, 7, 8, 9]\n",
        "\n",
        "# Initialize a variable\n",
        "total_sum = 0\n",
        "\n",
        "# Use for loop to iterate over list and calculate sum\n",
        "for number in num:\n",
        "    total_sum += number\n",
        "\n",
        "print(\"Total Sum: \", total_sum)"
      ]
    },
    {
      "cell_type": "code",
      "execution_count": null,
      "metadata": {
        "colab": {
          "base_uri": "https://localhost:8080/"
        },
        "id": "9w0EhiXw1mYU",
        "outputId": "5521eb94-5227-4c44-b51f-7657303182de"
      },
      "outputs": [
        {
          "name": "stdout",
          "output_type": "stream",
          "text": [
            "Sum of array [1, 2, 3, 4, 5, 6, 7, 8, 9] is : 45\n"
          ]
        }
      ],
      "source": [
        "mylist = [1, 2, 3, 4, 5, 6, 7, 8, 9]\n",
        "\n",
        "add_num = 0\n",
        "index = 0\n",
        "while index < len(mylist):\n",
        "    add_num += mylist[index]\n",
        "    # update\n",
        "    index += 1\n",
        "print(\"Sum of array {} is : {}\".format(mylist, add_num))"
      ]
    },
    {
      "cell_type": "markdown",
      "metadata": {
        "id": "g6VPdnEx3Aao"
      },
      "source": [
        "#### range(start, stop, step_size)"
      ]
    },
    {
      "cell_type": "code",
      "execution_count": null,
      "metadata": {
        "colab": {
          "base_uri": "https://localhost:8080/"
        },
        "collapsed": true,
        "id": "feweFqfO2_ox",
        "outputId": "e33f8435-8ccc-46fd-bb3b-4b6ef6695740"
      },
      "outputs": [
        {
          "name": "stdout",
          "output_type": "stream",
          "text": [
            "1\n",
            "2\n",
            "3\n",
            "4\n",
            "5\n",
            "6\n",
            "7\n",
            "8\n",
            "9\n",
            "10\n",
            "11\n",
            "12\n",
            "13\n",
            "14\n",
            "15\n",
            "16\n",
            "17\n",
            "18\n",
            "19\n"
          ]
        }
      ],
      "source": [
        "# start value = 1, end value = 19\n",
        "for element in range(1, 20):\n",
        "    print(element)"
      ]
    },
    {
      "cell_type": "code",
      "execution_count": null,
      "metadata": {
        "colab": {
          "base_uri": "https://localhost:8080/"
        },
        "id": "weXA6gtV3hZn",
        "outputId": "bf772326-f530-455e-e8a6-6528151a2e5e"
      },
      "outputs": [
        {
          "name": "stdout",
          "output_type": "stream",
          "text": [
            "Key: Name , Value: Subhendu\n",
            "Key: Gender , Value: Male\n",
            "Key: DOB , Value: 2000\n",
            "Key: Job , Value: Data Analyst\n",
            "Key: Contact , Value: +91-9876543210\n",
            "Key: Marital Status , Value: Married\n"
          ]
        }
      ],
      "source": [
        "person = {'Name': 'Subhendu', 'Gender': 'Male', 'DOB': 2000, 'Job': 'Data Analyst', 'Contact': '+91-9876543210', 'Marital Status': 'Married'}\n",
        "# Use a for loop to iterate over the dictionary and print keys and values\n",
        "for key, value in person.items():\n",
        "    print(\"Key:\", key, \", Value:\", value)"
      ]
    },
    {
      "cell_type": "markdown",
      "metadata": {
        "id": "EX_zF4nR4aH6"
      },
      "source": [
        "#### Functions\n",
        "    * In programming, we define a function to make resuable code that performs similar tasks.\n",
        "    * It is a block of organised code written to carry out a specified task."
      ]
    },
    {
      "cell_type": "code",
      "execution_count": null,
      "metadata": {
        "id": "u6AtwdYwzZmf"
      },
      "outputs": [],
      "source": [
        "# User Declared Function\n",
        "def my_function():\n",
        "    print(\"Hello Python Users !!\")"
      ]
    },
    {
      "cell_type": "code",
      "execution_count": null,
      "metadata": {
        "colab": {
          "base_uri": "https://localhost:8080/"
        },
        "id": "2BEskR7A4r3f",
        "outputId": "4fde8ef3-3103-4fcb-b732-d5998224da6e"
      },
      "outputs": [
        {
          "name": "stdout",
          "output_type": "stream",
          "text": [
            "Hello Python Users !!\n"
          ]
        }
      ],
      "source": [
        "# Call a function\n",
        "my_function()"
      ]
    },
    {
      "cell_type": "code",
      "execution_count": null,
      "metadata": {
        "id": "HUZtaqx94xWm"
      },
      "outputs": [],
      "source": [
        "# Declare function with an argument\n",
        "def greetings(name):\n",
        "    statement = \"Hello \" + name + \" Good Evening!\"     # local variable\n",
        "    return statement"
      ]
    },
    {
      "cell_type": "code",
      "execution_count": null,
      "metadata": {
        "colab": {
          "base_uri": "https://localhost:8080/",
          "height": 36
        },
        "id": "-xmDQXCG5HHS",
        "outputId": "c8c3e7e2-281a-43c4-f6f5-e247427c299d"
      },
      "outputs": [
        {
          "data": {
            "application/vnd.google.colaboratory.intrinsic+json": {
              "type": "string"
            },
            "text/plain": [
              "'Hello Deepak Good Evening!'"
            ]
          },
          "execution_count": 102,
          "metadata": {},
          "output_type": "execute_result"
        }
      ],
      "source": [
        "greetings(\"Deepak\")"
      ]
    },
    {
      "cell_type": "markdown",
      "metadata": {
        "id": "-dzb9XiI5b3i"
      },
      "source": [
        "#### Lambda Function"
      ]
    },
    {
      "cell_type": "code",
      "execution_count": null,
      "metadata": {
        "id": "Unecj_5t5TJE"
      },
      "outputs": [],
      "source": [
        "expression = lambda a, b : a + b"
      ]
    },
    {
      "cell_type": "code",
      "execution_count": null,
      "metadata": {
        "colab": {
          "base_uri": "https://localhost:8080/"
        },
        "id": "2eu_JJD55jR4",
        "outputId": "f84fa7bf-0b07-4e44-d69f-0491ccaca886"
      },
      "outputs": [
        {
          "data": {
            "text/plain": [
              "15"
            ]
          },
          "execution_count": 104,
          "metadata": {},
          "output_type": "execute_result"
        }
      ],
      "source": [
        "expression(10, 5)   # This is lambda function"
      ]
    },
    {
      "cell_type": "code",
      "execution_count": null,
      "metadata": {
        "colab": {
          "base_uri": "https://localhost:8080/"
        },
        "id": "Sn0bmu8v5n6V",
        "outputId": "998baf56-3b3b-4368-df8b-9ef411b2abcd"
      },
      "outputs": [
        {
          "data": {
            "text/plain": [
              "[(5, 'five'), (4, 'four'), (1, 'one'), (6, 'six'), (3, 'three'), (2, 'two')]"
            ]
          },
          "execution_count": 106,
          "metadata": {},
          "output_type": "execute_result"
        }
      ],
      "source": [
        "# Define a list of tuples\n",
        "list_t = [(1 , 'one'),(2, 'two'), (3, 'three'), (4, 'four'), (5, 'five'), (6, 'six')]\n",
        "# sort the list of tuples by second element using lambda function\n",
        "# key = custom comparator function using lambda\n",
        "sorted(list_t, key = lambda var : var[1])"
      ]
    },
    {
      "cell_type": "code",
      "execution_count": null,
      "metadata": {
        "colab": {
          "base_uri": "https://localhost:8080/"
        },
        "id": "f7urQ-7o6qNB",
        "outputId": "261c1a53-e727-492f-8432-aed55579786a"
      },
      "outputs": [
        {
          "data": {
            "text/plain": [
              "[(2, 'two'), (3, 'three'), (6, 'six'), (1, 'one'), (4, 'four'), (5, 'five')]"
            ]
          },
          "execution_count": 107,
          "metadata": {},
          "output_type": "execute_result"
        }
      ],
      "source": [
        "sorted(list_t, key = lambda var : var[1], reverse = True)"
      ]
    },
    {
      "cell_type": "code",
      "execution_count": 1,
      "metadata": {
        "id": "yHNUEeXR7eHo"
      },
      "outputs": [],
      "source": [
        "var =3"
      ]
    },
    {
      "cell_type": "code",
      "execution_count": 2,
      "metadata": {},
      "outputs": [
        {
          "name": "stdout",
          "output_type": "stream",
          "text": [
            "1.0\n"
          ]
        }
      ],
      "source": [
        "var=3\n",
        "print(var/3)"
      ]
    },
    {
      "cell_type": "code",
      "execution_count": null,
      "metadata": {},
      "outputs": [],
      "source": []
    }
  ],
  "metadata": {
    "colab": {
      "provenance": []
    },
    "kernelspec": {
      "display_name": "Python 3",
      "name": "python3"
    },
    "language_info": {
      "codemirror_mode": {
        "name": "ipython",
        "version": 3
      },
      "file_extension": ".py",
      "mimetype": "text/x-python",
      "name": "python",
      "nbconvert_exporter": "python",
      "pygments_lexer": "ipython3",
      "version": "3.9.6"
    }
  },
  "nbformat": 4,
  "nbformat_minor": 0
}
