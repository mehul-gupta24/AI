{
 "cells": [
  {
   "cell_type": "markdown",
   "metadata": {},
   "source": [
    "### Image Pyramid using OpenCV"
   ]
  },
  {
   "cell_type": "code",
   "execution_count": 2,
   "metadata": {},
   "outputs": [],
   "source": [
    "import cv2\n",
    "import numpy as np"
   ]
  },
  {
   "cell_type": "code",
   "execution_count": 2,
   "metadata": {},
   "outputs": [],
   "source": [
    "# Work with images with default resolution but many times we need to change the resolution (lower it) or resize the original\n",
    "#  image in that case, image pyramids comes handy"
   ]
  },
  {
   "cell_type": "code",
   "execution_count": 27,
   "metadata": {},
   "outputs": [
    {
     "name": "stdout",
     "output_type": "stream",
     "text": [
      "(625, 500, 3)\n",
      "(313, 250, 3)\n",
      "(626, 500, 3)\n"
     ]
    }
   ],
   "source": [
    "img=cv2.imread(\"/Users/mehulgupta2409/Documents/Code /AI ML/AI/OpenCV/Image/Face Photo 2379005.jpeg\")\n",
    "# new=cv2.resize(img,(500,500))\n",
    "print(img.shape)\n",
    "# Going in to small images\n",
    "new=cv2.pyrDown(img)\n",
    "print(new.shape)\n",
    "# new1=cv2.pyrDown(new)\n",
    "# print(new1.shape)\n",
    "# new2=cv2.pyrDown(new1)\n",
    "# print(new2.shape)\n",
    "# new3=cv2.pyrDown(new2)\n",
    "# print(new3.shape)\n",
    "\n",
    "\n",
    "# cv2.imshow(\"am\",img)\n",
    "# cv2.imshow(\"m\",new)\n",
    "# cv2.imshow(\"mwq\",new1)\n",
    "# cv2.imshow(\"mwqw\",new2)\n",
    "# cv2.imshow(\"mwqsw\",new3)\n",
    "\n",
    "# Again going to big images - it will create blur image as we are stretching it further apart\n",
    "new4=cv2.pyrUp(new)\n",
    "print(new4.shape)\n",
    "# new5=cv2.pyrUp(new4)\n",
    "# print(new5.shape)\n",
    "# new6=cv2.pyrUp(new5)\n",
    "# print(new6.shape)\n",
    "# new7=cv2.pyrUp(new6)\n",
    "# print(new7.shape)\n",
    "cv2.imshow(\"iOOdvv\",new4)\n",
    "# cv2.imshow(\"iOOd\",new5)\n",
    "# cv2.imshow(\"iOO\",new6)\n",
    "# cv2.imshow(\"ce\",new7)\n",
    "cv2.waitKey(25)\n",
    "cv2.destroyAllWindows()"
   ]
  },
  {
   "cell_type": "markdown",
   "metadata": {},
   "source": [
    "### Image translation using OpenCV"
   ]
  },
  {
   "cell_type": "code",
   "execution_count": 28,
   "metadata": {},
   "outputs": [],
   "source": [
    "# Advantages/Application of Image translation are\n",
    "# 1) Hiding a part of the image\n",
    "# 2) Croping an image\n",
    "# 3) Shifting an Image\n",
    "# 4) Animating an image using image transloations in loop"
   ]
  },
  {
   "cell_type": "code",
   "execution_count": 36,
   "metadata": {},
   "outputs": [
    {
     "name": "stdout",
     "output_type": "stream",
     "text": [
      "(625, 500, 3)\n"
     ]
    }
   ],
   "source": [
    "new_img=cv2.imread(\"/Users/mehulgupta2409/Documents/Code /AI ML/AI/OpenCV/Image/Face Photo 2379005.jpeg\",1)\n",
    "print(new_img.shape)\n",
    "# cv2.imshow(\"s\",new_img)\n",
    "new_img=cv2.resize(new_img,(600,600))\n",
    "# now we need to make kernel matrix to get our image translate\n",
    "kernel_matrix=np.float32([[1,0,10],[0,1,100]])\n",
    "# print(new_img)\n",
    "# kernel_matrix\n",
    "new=cv2.warpAffine(new_img,kernel_matrix,(600,600))\n",
    "\n",
    "cv2.imshow(\"hedre\",new_img)\n",
    "cv2.imshow(\"hese\",new)\n",
    "# cv2.imshow(\"herecec\",kernel_matrix)\n",
    "cv2.waitKey(10)\n",
    "cv2.destroyAllWindows()"
   ]
  },
  {
   "cell_type": "markdown",
   "metadata": {},
   "source": [
    "### Geometric Transformation of Images"
   ]
  },
  {
   "cell_type": "code",
   "execution_count": 37,
   "metadata": {},
   "outputs": [],
   "source": [
    "# Transformation (about axis x and y)- 1)Scaling\n",
    "#                  2)Translation\n",
    "#                  3)Rotation\n",
    "# Affine Transformation - rotate\n",
    "# Perspecive Transformation - crop\n",
    "\n",
    "\n",
    "# 1)Translation\n",
    "# 2)Euclidean\n",
    "# 3)Similarity\n",
    "# 4)Affine\n",
    "# 5)Projective"
   ]
  },
  {
   "cell_type": "markdown",
   "metadata": {},
   "source": [
    "### Background Subtraction using OpenCV in Video\n",
    "<h5>In Image we do Edge detection , nut here in video we do background subtraction method"
   ]
  },
  {
   "cell_type": "code",
   "execution_count": 17,
   "metadata": {},
   "outputs": [],
   "source": [
    "org_video=cv2.VideoCapture(\"/Users/mehulgupta2409/Downloads/Videos/Check CCTV Recording.mp4\")\n",
    "sub_background=cv2.createBackgroundSubtractorMOG2()\n",
    "while org_video.isOpened():\n",
    "    r,frame=org_video.read()\n",
    "    if r==False:\n",
    "        break\n",
    "    frame=cv2.resize(frame,(700,500))\n",
    "    sub_v=sub_background.apply(frame)\n",
    "    cv2.imshow(\"se\",sub_v)\n",
    "    # cv2.imshow(\"s\",frame)\n",
    "    if cv2.waitKey(25) & 0xff==ord(\"p\"):\n",
    "        break\n",
    "\n",
    "org_video.release()\n",
    "cv2.destroyAllWindows()"
   ]
  },
  {
   "cell_type": "markdown",
   "metadata": {},
   "source": [
    "### Extract images from video using OpenCV"
   ]
  },
  {
   "cell_type": "code",
   "execution_count": 22,
   "metadata": {},
   "outputs": [],
   "source": [
    "cap=cv2.VideoCapture(\"/Users/mehulgupta2409/Downloads/Videos/Niagara Falls UHD 30fps.mp4\")\n",
    "num=0\n",
    "while True:\n",
    "    r,frame=cap.read()\n",
    "    if r==False :\n",
    "        break\n",
    "    frame=cv2.resize(frame,(700,550))\n",
    "    filename=\"/Users/mehulgupta2409/Documents/Code /AI ML/AI/OpenCV/Images from Video/image_\"+str(num)+\".png\"\n",
    "    cv2.imwrite(filename,frame)\n",
    "    num=num+1\n",
    "    cv2.imshow(\"abc\",frame)\n",
    "    if cv2.waitKey(25) & 0xff==ord(\"p\"):\n",
    "        break\n",
    "cap.release()\n",
    "cv2.destroyAllWindows()"
   ]
  },
  {
   "cell_type": "markdown",
   "metadata": {},
   "source": [
    "### cvtColor method OpenCV"
   ]
  },
  {
   "cell_type": "code",
   "execution_count": 34,
   "metadata": {},
   "outputs": [],
   "source": [
    "old_img=cv2.imread(\"/Users/mehulgupta2409/Documents/Code /AI ML/AI/OpenCV/Image/Face Photo 2379005.jpeg\")\n",
    "new_img=cv2.cvtColor(old_img,cv2.COLOR_BGR2RGB)\n",
    "# cv2.imshow(\"fface\",old_img)\n",
    "cv2.imshow(\"face\",new_img)\n",
    "cv2.waitKey(1)\n",
    "cv2.destroyAllWindows()"
   ]
  },
  {
   "cell_type": "markdown",
   "metadata": {},
   "source": [
    "### Crop image using OpenCV"
   ]
  },
  {
   "cell_type": "code",
   "execution_count": 12,
   "metadata": {},
   "outputs": [],
   "source": [
    "old_img=cv2.imread(\"/Users/mehulgupta2409/Documents/Code /AI ML/AI/OpenCV/Image/Face Photo 2379005.jpeg\")\n",
    "old_img=cv2.resize(old_img,(500,500))\n",
    "# image[y1:y2,x1:x2] where x1,y1 are the top left points and x2,y2 are the bottom right points\n",
    "crop_img=old_img[60:400,60:400]\n",
    "\n",
    "cv2.imshow(\"faece\",old_img)\n",
    "cv2.imshow(\"facewe\",crop_img)\n",
    "cv2.waitKey(1)\n",
    "cv2.destroyAllWindows()"
   ]
  },
  {
   "cell_type": "markdown",
   "metadata": {},
   "source": [
    "### create Blank Image using OpenCV Python"
   ]
  },
  {
   "cell_type": "code",
   "execution_count": 13,
   "metadata": {},
   "outputs": [],
   "source": [
    "# we need a numpy array for this"
   ]
  },
  {
   "cell_type": "code",
   "execution_count": 48,
   "metadata": {},
   "outputs": [
    {
     "name": "stdout",
     "output_type": "stream",
     "text": [
      "[[[168]\n",
      "  [168]\n",
      "  [168]\n",
      "  ...\n",
      "  [168]\n",
      "  [168]\n",
      "  [168]]\n",
      "\n",
      " [[168]\n",
      "  [168]\n",
      "  [168]\n",
      "  ...\n",
      "  [168]\n",
      "  [168]\n",
      "  [168]]\n",
      "\n",
      " [[168]\n",
      "  [168]\n",
      "  [168]\n",
      "  ...\n",
      "  [168]\n",
      "  [168]\n",
      "  [168]]\n",
      "\n",
      " ...\n",
      "\n",
      " [[168]\n",
      "  [168]\n",
      "  [168]\n",
      "  ...\n",
      "  [168]\n",
      "  [168]\n",
      "  [168]]\n",
      "\n",
      " [[168]\n",
      "  [168]\n",
      "  [168]\n",
      "  ...\n",
      "  [168]\n",
      "  [168]\n",
      "  [168]]\n",
      "\n",
      " [[168]\n",
      "  [168]\n",
      "  [168]\n",
      "  ...\n",
      "  [168]\n",
      "  [168]\n",
      "  [168]]]\n"
     ]
    }
   ],
   "source": [
    "# new_img=np.ones((2,5,3))\n",
    "new_img=np.ones((500,500,1),np.uint8)*168\n",
    "# new_img=np.ones((500,500,3),np.uint8)*100\n",
    "print(new_img)\n",
    "cv2.imshow(\"s\",new_img)\n",
    "cv2.waitKey(1)\n",
    "cv2.destroyAllWindows()"
   ]
  },
  {
   "cell_type": "markdown",
   "metadata": {},
   "source": [
    "### Color picker using OpenCV Python"
   ]
  },
  {
   "cell_type": "code",
   "execution_count": 52,
   "metadata": {},
   "outputs": [],
   "source": [
    "def fun(x):\n",
    "    pass"
   ]
  },
  {
   "cell_type": "code",
   "execution_count": 58,
   "metadata": {},
   "outputs": [
    {
     "ename": "error",
     "evalue": "OpenCV(4.10.0) /Users/xperience/GHA-Actions-OpenCV/_work/opencv-python/opencv-python/opencv/modules/core/src/matrix_c.cpp:190: error: (-5:Bad argument) Unknown array type in function 'cvarrToMat'\n",
     "output_type": "error",
     "traceback": [
      "\u001b[0;31m---------------------------------------------------------------------------\u001b[0m",
      "\u001b[0;31merror\u001b[0m                                     Traceback (most recent call last)",
      "\u001b[1;32m/Users/mehulgupta2409/Documents/Code /AI ML/AI/OpenCV/2.ipynb Cell 23\u001b[0m line \u001b[0;36m1\n\u001b[1;32m      <a href='vscode-notebook-cell:/Users/mehulgupta2409/Documents/Code%20/AI%20ML/AI/OpenCV/2.ipynb#X36sZmlsZQ%3D%3D?line=6'>7</a>\u001b[0m cv2\u001b[39m.\u001b[39mcreateTrackbar(\u001b[39m\"\u001b[39m\u001b[39mB\u001b[39m\u001b[39m\"\u001b[39m,\u001b[39m\"\u001b[39m\u001b[39mreakk\u001b[39m\u001b[39m\"\u001b[39m,\u001b[39m0\u001b[39m,\u001b[39m255\u001b[39m,fun)\n\u001b[1;32m      <a href='vscode-notebook-cell:/Users/mehulgupta2409/Documents/Code%20/AI%20ML/AI/OpenCV/2.ipynb#X36sZmlsZQ%3D%3D?line=8'>9</a>\u001b[0m \u001b[39mwhile\u001b[39;00m \u001b[39mTrue\u001b[39;00m:\n\u001b[0;32m---> <a href='vscode-notebook-cell:/Users/mehulgupta2409/Documents/Code%20/AI%20ML/AI/OpenCV/2.ipynb#X36sZmlsZQ%3D%3D?line=9'>10</a>\u001b[0m     cv2\u001b[39m.\u001b[39mimshow(\u001b[39m\"\u001b[39m\u001b[39mreakk\u001b[39m\u001b[39m\"\u001b[39m,img)\n\u001b[1;32m     <a href='vscode-notebook-cell:/Users/mehulgupta2409/Documents/Code%20/AI%20ML/AI/OpenCV/2.ipynb#X36sZmlsZQ%3D%3D?line=10'>11</a>\u001b[0m     \u001b[39mif\u001b[39;00m cv2\u001b[39m.\u001b[39mwaitKey(\u001b[39m20\u001b[39m) \u001b[39m&\u001b[39m \u001b[39m0xff\u001b[39m\u001b[39m==\u001b[39m\u001b[39mord\u001b[39m(\u001b[39m\"\u001b[39m\u001b[39mp\u001b[39m\u001b[39m\"\u001b[39m):\n\u001b[1;32m     <a href='vscode-notebook-cell:/Users/mehulgupta2409/Documents/Code%20/AI%20ML/AI/OpenCV/2.ipynb#X36sZmlsZQ%3D%3D?line=11'>12</a>\u001b[0m         \u001b[39mbreak\u001b[39;00m\n",
      "\u001b[0;31merror\u001b[0m: OpenCV(4.10.0) /Users/xperience/GHA-Actions-OpenCV/_work/opencv-python/opencv-python/opencv/modules/core/src/matrix_c.cpp:190: error: (-5:Bad argument) Unknown array type in function 'cvarrToMat'\n"
     ]
    }
   ],
   "source": [
    "\n",
    "img=np.ones((3,600,600),np.uint8)*0\n",
    "# img=cv2.resize(img,(600,500))\n",
    "cv2.namedWindow(\"reakk\")\n",
    "\n",
    "cv2.createTrackbar(\"R\",\"reakk\",0,255,fun)\n",
    "cv2.createTrackbar(\"G\",\"reakk\",0,255,fun)\n",
    "cv2.createTrackbar(\"B\",\"reakk\",0,255,fun)\n",
    "\n",
    "while True:\n",
    "    cv2.imshow(\"reakk\",img)\n",
    "    if cv2.waitKey(20) & 0xff==ord(\"p\"):\n",
    "        break\n",
    "    r=cv2.getTrackbarPos(\"R\",\"reakk\")\n",
    "    g=cv2.getTrackbarPos(\"G\",\"reakk\")\n",
    "    b=cv2.getTrackbarPos(\"B\",\"reakk\")\n",
    "    img[:]=[b,g,r]\n",
    "\n",
    "cv2.destroyAllWindows()"
   ]
  },
  {
   "cell_type": "code",
   "execution_count": null,
   "metadata": {},
   "outputs": [],
   "source": []
  }
 ],
 "metadata": {
  "kernelspec": {
   "display_name": "base",
   "language": "python",
   "name": "python3"
  },
  "language_info": {
   "codemirror_mode": {
    "name": "ipython",
    "version": 3
   },
   "file_extension": ".py",
   "mimetype": "text/x-python",
   "name": "python",
   "nbconvert_exporter": "python",
   "pygments_lexer": "ipython3",
   "version": "3.12.4"
  }
 },
 "nbformat": 4,
 "nbformat_minor": 2
}
