{
 "cells": [
  {
   "cell_type": "markdown",
   "metadata": {},
   "source": [
    "### Image Pyramid using OpenCV"
   ]
  },
  {
   "cell_type": "code",
   "execution_count": 1,
   "metadata": {},
   "outputs": [],
   "source": [
    "import cv2\n",
    "import numpy as np"
   ]
  },
  {
   "cell_type": "code",
   "execution_count": 2,
   "metadata": {},
   "outputs": [],
   "source": [
    "# Work with images with default resolution but many times we need to change the resolution (lower it) or resize the original\n",
    "#  image in that case, image pyramids comes handy"
   ]
  },
  {
   "cell_type": "code",
   "execution_count": 27,
   "metadata": {},
   "outputs": [
    {
     "name": "stdout",
     "output_type": "stream",
     "text": [
      "(625, 500, 3)\n",
      "(313, 250, 3)\n",
      "(626, 500, 3)\n"
     ]
    }
   ],
   "source": [
    "img=cv2.imread(\"/Users/mehulgupta2409/Documents/Code /AI ML/AI/OpenCV/Image/Face Photo 2379005.jpeg\")\n",
    "# new=cv2.resize(img,(500,500))\n",
    "print(img.shape)\n",
    "# Going in to small images\n",
    "new=cv2.pyrDown(img)\n",
    "print(new.shape)\n",
    "# new1=cv2.pyrDown(new)\n",
    "# print(new1.shape)\n",
    "# new2=cv2.pyrDown(new1)\n",
    "# print(new2.shape)\n",
    "# new3=cv2.pyrDown(new2)\n",
    "# print(new3.shape)\n",
    "\n",
    "\n",
    "# cv2.imshow(\"am\",img)\n",
    "# cv2.imshow(\"m\",new)\n",
    "# cv2.imshow(\"mwq\",new1)\n",
    "# cv2.imshow(\"mwqw\",new2)\n",
    "# cv2.imshow(\"mwqsw\",new3)\n",
    "\n",
    "# Again going to big images - it will create blur image as we are stretching it further apart\n",
    "new4=cv2.pyrUp(new)\n",
    "print(new4.shape)\n",
    "# new5=cv2.pyrUp(new4)\n",
    "# print(new5.shape)\n",
    "# new6=cv2.pyrUp(new5)\n",
    "# print(new6.shape)\n",
    "# new7=cv2.pyrUp(new6)\n",
    "# print(new7.shape)\n",
    "cv2.imshow(\"iOOdvv\",new4)\n",
    "# cv2.imshow(\"iOOd\",new5)\n",
    "# cv2.imshow(\"iOO\",new6)\n",
    "# cv2.imshow(\"ce\",new7)\n",
    "cv2.waitKey(25)\n",
    "cv2.destroyAllWindows()"
   ]
  },
  {
   "cell_type": "markdown",
   "metadata": {},
   "source": [
    "### Image translation using OpenCV"
   ]
  },
  {
   "cell_type": "code",
   "execution_count": 28,
   "metadata": {},
   "outputs": [],
   "source": [
    "# Advantages/Application of Image translation are\n",
    "# 1) Hiding a part of the image\n",
    "# 2) Croping an image\n",
    "# 3) Shifting an Image\n",
    "# 4) Animating an image using image transloations in loop"
   ]
  },
  {
   "cell_type": "code",
   "execution_count": 36,
   "metadata": {},
   "outputs": [
    {
     "name": "stdout",
     "output_type": "stream",
     "text": [
      "(625, 500, 3)\n"
     ]
    }
   ],
   "source": [
    "new_img=cv2.imread(\"/Users/mehulgupta2409/Documents/Code /AI ML/AI/OpenCV/Image/Face Photo 2379005.jpeg\",1)\n",
    "print(new_img.shape)\n",
    "# cv2.imshow(\"s\",new_img)\n",
    "new_img=cv2.resize(new_img,(600,600))\n",
    "# now we need to make kernel matrix to get our image translate\n",
    "kernel_matrix=np.float32([[1,0,10],[0,1,100]])\n",
    "# print(new_img)\n",
    "# kernel_matrix\n",
    "new=cv2.warpAffine(new_img,kernel_matrix,(600,600))\n",
    "\n",
    "cv2.imshow(\"hedre\",new_img)\n",
    "cv2.imshow(\"hese\",new)\n",
    "# cv2.imshow(\"herecec\",kernel_matrix)\n",
    "cv2.waitKey(10)\n",
    "cv2.destroyAllWindows()"
   ]
  },
  {
   "cell_type": "markdown",
   "metadata": {},
   "source": [
    "### Geometric Transformation of Images"
   ]
  },
  {
   "cell_type": "code",
   "execution_count": 37,
   "metadata": {},
   "outputs": [],
   "source": [
    "# Transformation (about axis x and y)- 1)Scaling\n",
    "#                  2)Translation\n",
    "#                  3)Rotation\n",
    "# Affine Transformation - rotate\n",
    "# Perspecive Transformation - crop\n",
    "\n",
    "\n",
    "# 1)Translation\n",
    "# 2)Euclidean\n",
    "# 3)Similarity\n",
    "# 4)Affine\n",
    "# 5)Projective"
   ]
  },
  {
   "cell_type": "markdown",
   "metadata": {},
   "source": [
    "### Background Subtraction using OpenCV"
   ]
  },
  {
   "cell_type": "code",
   "execution_count": null,
   "metadata": {},
   "outputs": [
    {
     "ename": "",
     "evalue": "",
     "output_type": "error",
     "traceback": [
      "\u001b[1;31mThe Kernel crashed while executing code in the the current cell or a previous cell. Please review the code in the cell(s) to identify a possible cause of the failure. Click <a href='https://aka.ms/vscodeJupyterKernelCrash'>here</a> for more info. View Jupyter <a href='command:jupyter.viewOutput'>log</a> for further details."
     ]
    }
   ],
   "source": [
    "org_video=cv2.VideoCapture(\"/Users/mehulgupta2409/Downloads/Videos/mountain.mp4\")\n",
    "sub_background=cv2.BackgroundSubtractorMOG2()\n",
    "while org_video.isOpened():\n",
    "    r,frame=org_video.read()\n",
    "    if r==False:\n",
    "        break\n",
    "    frame=cv2.resize(frame,(700,500))\n",
    "    # sub_v=sub_background.apply(frame)\n",
    "    # cv2.imshow(\"se\",sub_v)\n",
    "    cv2.imshow(\"s\",frame)\n",
    "    if cv2.waitKey(1) & 0xff==ord(\"p\"):\n",
    "        break\n",
    "\n",
    "org_video.release()\n",
    "cv2.destroyAllWindows()"
   ]
  },
  {
   "cell_type": "code",
   "execution_count": null,
   "metadata": {},
   "outputs": [],
   "source": []
  },
  {
   "cell_type": "code",
   "execution_count": null,
   "metadata": {},
   "outputs": [],
   "source": []
  }
 ],
 "metadata": {
  "kernelspec": {
   "display_name": "base",
   "language": "python",
   "name": "python3"
  },
  "language_info": {
   "codemirror_mode": {
    "name": "ipython",
    "version": 3
   },
   "file_extension": ".py",
   "mimetype": "text/x-python",
   "name": "python",
   "nbconvert_exporter": "python",
   "pygments_lexer": "ipython3",
   "version": "3.12.4"
  }
 },
 "nbformat": 4,
 "nbformat_minor": 2
}
