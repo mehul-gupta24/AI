{
 "cells": [
  {
   "cell_type": "code",
   "execution_count": 24,
   "metadata": {},
   "outputs": [],
   "source": [
    "import cv2\n",
    "import numpy as np\n",
    "import os"
   ]
  },
  {
   "cell_type": "code",
   "execution_count": 11,
   "metadata": {},
   "outputs": [],
   "source": [
    "img=cv2.imread(\"Cute Dog.jpg\")  #image read\n",
    "img=cv2.resize(img,(200,200))\n",
    "cv2.imshow(\"Mehul's library\",img) #image show\n",
    "cv2.waitKey(10)               #image frame - wait this much milliseconds\n",
    "# cv2.destroyWindow()             #only 1 window close\n",
    "cv2.destroyAllWindows()         #destroy all windows"
   ]
  },
  {
   "cell_type": "code",
   "execution_count": 12,
   "metadata": {},
   "outputs": [
    {
     "data": {
      "text/plain": [
       "(200, 200, 3)"
      ]
     },
     "execution_count": 12,
     "metadata": {},
     "output_type": "execute_result"
    }
   ],
   "source": [
    "img.shape"
   ]
  },
  {
   "cell_type": "code",
   "execution_count": 13,
   "metadata": {},
   "outputs": [],
   "source": [
    "img=cv2.imread(\"Cute Dog.jpg\")  #image read\n",
    "cv2.imshow(\"Mehul's library\",img) #image show\n",
    "cv2.imshow(\"Mehul's library store\",img) #image show\n",
    "cv2.waitKey(3000)               #image frame - wait this much milliseconds\n",
    "cv2.destroyWindow(\"Mehul's library store\")             #only 1 window close\n",
    "# cv2.destroyAllWindows()         #destroy all windows"
   ]
  },
  {
   "cell_type": "code",
   "execution_count": 23,
   "metadata": {},
   "outputs": [],
   "source": [
    "img=cv2.imread(\"Cute Dog.jpg\")  #image read\n",
    "img=cv2.resize(img,(400,300))\n",
    "img=np.hstack((img,img,img))  #for horizontally adding image\n",
    "img=np.vstack((img,img))  #same for vertically\n",
    "cv2.imshow(\"Mehul's library\",img) #image show\n",
    "cv2.waitKey(10)               #image frame - wait this much milliseconds\n",
    "# cv2.destroyWindow()             #only 1 window close\n",
    "cv2.destroyAllWindows()         #destroy all windows"
   ]
  },
  {
   "cell_type": "code",
   "execution_count": null,
   "metadata": {},
   "outputs": [],
   "source": []
  }
 ],
 "metadata": {
  "kernelspec": {
   "display_name": "base",
   "language": "python",
   "name": "python3"
  },
  "language_info": {
   "codemirror_mode": {
    "name": "ipython",
    "version": 3
   },
   "file_extension": ".py",
   "mimetype": "text/x-python",
   "name": "python",
   "nbconvert_exporter": "python",
   "pygments_lexer": "ipython3",
   "version": "3.12.4"
  }
 },
 "nbformat": 4,
 "nbformat_minor": 2
}
