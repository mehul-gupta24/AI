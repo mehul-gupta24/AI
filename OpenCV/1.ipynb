{
 "cells": [
  {
   "cell_type": "code",
   "execution_count": 2,
   "metadata": {},
   "outputs": [],
   "source": [
    "import cv2\n",
    "import numpy as np\n",
    "import os"
   ]
  },
  {
   "cell_type": "code",
   "execution_count": 4,
   "metadata": {},
   "outputs": [],
   "source": [
    "img=cv2.imread(\"Cute Dog.jpg\")  #image read\n",
    "img=cv2.resize(img,(200,200))\n",
    "cv2.imshow(\"Mehul's library\",img) #image show\n",
    "cv2.waitKey(10)               #image frame - wait this much milliseconds\n",
    "# cv2.destroyWindow()             #only 1 window close\n",
    "cv2.destroyAllWindows()         #destroy all windows\n",
    "#when wait key is 0 , then we need to press arrow keys for closing it"
   ]
  },
  {
   "cell_type": "code",
   "execution_count": 5,
   "metadata": {},
   "outputs": [
    {
     "data": {
      "text/plain": [
       "(200, 200, 3)"
      ]
     },
     "execution_count": 5,
     "metadata": {},
     "output_type": "execute_result"
    }
   ],
   "source": [
    "img.shape"
   ]
  },
  {
   "cell_type": "code",
   "execution_count": 7,
   "metadata": {},
   "outputs": [],
   "source": [
    "img=cv2.imread(\"Cute Dog.jpg\")  #image read\n",
    "cv2.imshow(\"Mehul's library\",img) #image show\n",
    "cv2.imshow(\"Mehul's library store\",img) #image show\n",
    "cv2.waitKey(3000)               #image frame - wait this much milliseconds\n",
    "cv2.destroyWindow(\"Mehul's library store\")             #only 1 window close\n",
    "# cv2.destroyAllWindows()         #destroy all windows"
   ]
  },
  {
   "cell_type": "code",
   "execution_count": 8,
   "metadata": {},
   "outputs": [],
   "source": [
    "img=cv2.imread(\"Cute Dog.jpg\")  #image read\n",
    "img=cv2.resize(img,(400,300))\n",
    "img=np.hstack((img,img,img))  #for horizontally adding image\n",
    "img=np.vstack((img,img))  #same for vertically\n",
    "cv2.imshow(\"Mehul's library\",img) #image show\n",
    "cv2.waitKey(10)               #image frame - wait this much milliseconds\n",
    "# cv2.destroyWindow()             #only 1 window close\n",
    "cv2.destroyAllWindows()         #destroy all windows"
   ]
  },
  {
   "cell_type": "markdown",
   "metadata": {},
   "source": [
    "## Slideshow using os"
   ]
  },
  {
   "cell_type": "code",
   "execution_count": 9,
   "metadata": {},
   "outputs": [
    {
     "data": {
      "text/plain": [
       "['Trees and Mountain Photo.jpg',\n",
       " 'Peacock Blue Green Brown.jpg',\n",
       " 'Wide Angle Road Photo.jpg',\n",
       " 'Black Horse Green Field.jpg',\n",
       " 'Pexels Pixabay 60597.jpg']"
      ]
     },
     "execution_count": 9,
     "metadata": {},
     "output_type": "execute_result"
    }
   ],
   "source": [
    "list_name=os.listdir(\"/Users/mehulgupta2409/Documents/Code /AI ML/Python/AI/OpenCV/Image\")\n",
    "list_name"
   ]
  },
  {
   "cell_type": "code",
   "execution_count": 18,
   "metadata": {},
   "outputs": [],
   "source": [
    "for name in list_name:\n",
    "    path = \"/Users/mehulgupta2409/Documents/Code /AI ML/Python/AI/OpenCV/Image\"\n",
    "    img_path = path+\"/\"+name\n",
    "    img=cv2.imread(img_path)\n",
    "    img=cv2.resize(img,(800,600))\n",
    "    # img=np.hstack((img,img))\n",
    "    # img=np.vstack((img,img))\n",
    "    cv2.imshow(\"Mehul\",img)\n",
    "    cv2.waitKey(1000)\n",
    "cv2.destroyAllWindows()"
   ]
  },
  {
   "cell_type": "markdown",
   "metadata": {},
   "source": [
    "## imread Function \n",
    "<h5>1) cv2.read(\"image path\",1)    default(rgb color) </h5>\n",
    "\n",
    "<h5>2) cv2.read(\"image path\",0)    grayscale() </h5>\n",
    "\n",
    "<h5>3) cv2.read(\"image path\",-1)   unchanged </h5>"
   ]
  },
  {
   "cell_type": "code",
   "execution_count": 48,
   "metadata": {},
   "outputs": [
    {
     "name": "stdout",
     "output_type": "stream",
     "text": [
      "(3456, 5184, 3)\n"
     ]
    }
   ],
   "source": [
    "new_img=cv2.imread(\"/Users/mehulgupta2409/Documents/Code /AI ML/Python/AI/OpenCV/Image/Peacock Blue Green Brown.jpg\",1)\n",
    "print(new_img.shape)\n",
    "# cv2.imshow(\"s\",new_img)\n",
    "new_img=cv2.resize(new_img,(600,600))\n",
    "cv2.imshow(\"new window\",new_img)\n",
    "cv2.waitKey(0)\n",
    "cv2.destroyAllWindows()"
   ]
  },
  {
   "cell_type": "markdown",
   "metadata": {},
   "source": [
    "Here the dimension of image got reduced from (x,y,3) to (x,y) ,means There is no third dimension for color channels in grayscale mode."
   ]
  },
  {
   "cell_type": "code",
   "execution_count": 49,
   "metadata": {},
   "outputs": [
    {
     "name": "stdout",
     "output_type": "stream",
     "text": [
      "(3456, 5184)\n"
     ]
    }
   ],
   "source": [
    "new_img=cv2.imread(\"/Users/mehulgupta2409/Documents/Code /AI ML/Python/AI/OpenCV/Image/Peacock Blue Green Brown.jpg\",0)\n",
    "print(new_img.shape)\n",
    "# cv2.imshow(\"s\",new_img)\n",
    "new_img=cv2.resize(new_img,(600,600))\n",
    "cv2.imshow(\"new window\",new_img)\n",
    "cv2.waitKey(0)\n",
    "cv2.destroyAllWindows()"
   ]
  },
  {
   "cell_type": "code",
   "execution_count": 50,
   "metadata": {},
   "outputs": [
    {
     "name": "stdout",
     "output_type": "stream",
     "text": [
      "(3456, 5184, 3)\n"
     ]
    }
   ],
   "source": [
    "new_img=cv2.imread(\"/Users/mehulgupta2409/Documents/Code /AI ML/Python/AI/OpenCV/Image/Peacock Blue Green Brown.jpg\",-1)\n",
    "print(new_img.shape)\n",
    "# cv2.imshow(\"s\",new_img)\n",
    "new_img=cv2.resize(new_img,(600,600))\n",
    "cv2.imshow(\"new window\",new_img)\n",
    "cv2.waitKey(0)\n",
    "cv2.destroyAllWindows()"
   ]
  },
  {
   "cell_type": "markdown",
   "metadata": {},
   "source": [
    "### Text in Image\n",
    "<h5> cv2.putText function parameters </h5>\n",
    "(img: MatLike, text: str, org: Point, fontFace: int, fontScale: float, color: Scalar, thickness: int = ..., lineType: int = ..., bottomLeftOrigin: bool = ...) -> MatLike"
   ]
  },
  {
   "cell_type": "code",
   "execution_count": 94,
   "metadata": {},
   "outputs": [],
   "source": [
    "img_get=cv2.imread(\"/Users/mehulgupta2409/Documents/Code /AI ML/Python/AI/OpenCV/Image/Wide Angle Road Photo.jpg\")\n",
    "img_get=cv2.resize(img_get,(500,600))\n",
    "text=\"Champion\"\n",
    "# org is origin of text from top left of image,so we need to mention x and y co-ordinates (in pixels)\n",
    "# fontFace is the font type of text\n",
    "    # font_HERSHEY_SIMPLEX=0\n",
    "    # font_HERSHEY_PLAIN=1\n",
    "    # font_HERSHEY_DUPLEX=2\n",
    "    # font_HERSHEY_COMPLEX=3\n",
    "    # font_HERSHEY_TRIPLEX=4\n",
    "    # font_HERSHEY_COMPLEX_SMALL=5\n",
    "    # font_HERSHEY_SCRIPT_SIMPLEX=6\n",
    "    # font_HERSHEY_SCRIPT_COMPLEX=7\n",
    "# fontScale - size of font(suppose 3, means 3 times,2 means 2 times)\n",
    "\n",
    "# color - BGR(255,0,0)    opposite of RGB(red green blue)\n",
    "    # color=(0,0,255)  means red colour\n",
    "# thickness =3 - is thickness of text\n",
    "# lineType - \n",
    "    # FILLED = -1\n",
    "    # Line_4 = 4\n",
    "    # Line_8 = 8\n",
    "    # Line_AA = 16\n",
    "# bottomLeftOrigin(takes either true or false i.e boolean value) - (optional parameter) - (when it is true then - the image data orign is at the bottom-left corner . Otherwise , it is at the top-left corner)\n",
    "    # kind of mirror image of text\n",
    "text_img=cv2.putText(img_get,text,(50,450),cv2.FONT_HERSHEY_DUPLEX,2,(0,0,255),5,cv2.LINE_8,False)\n",
    "text_img=cv2.putText(img_get,text,(50,150),cv2.FONT_HERSHEY_DUPLEX,2,(255,0,0),5,cv2.LINE_8,True)"
   ]
  },
  {
   "cell_type": "code",
   "execution_count": 95,
   "metadata": {},
   "outputs": [],
   "source": [
    "cv2.imshow(\"text\",text_img)\n",
    "cv2.waitKey(1000)\n",
    "cv2.destroyAllWindows()"
   ]
  },
  {
   "cell_type": "markdown",
   "metadata": {},
   "source": [
    "### Draw Line and Rectangle on image - (used in Face detection apps)"
   ]
  },
  {
   "cell_type": "code",
   "execution_count": 122,
   "metadata": {},
   "outputs": [],
   "source": [
    "# for line\n",
    "horse_img=cv2.imread(\"/Users/mehulgupta2409/Documents/Code /AI ML/Python/AI/OpenCV/Image/Black Horse Green Field.jpg\")\n",
    "horse_img=cv2.resize(horse_img,(1000,500))\n",
    "horse_updateLine_img=cv2.line(horse_img,(450,220),(650,220),(0,0,255),3,cv2.LINE_8)\n",
    "# (img: MatLike, pt1: Point, pt2: Point, color: Scalar, thickness: int = ..., lineType: int = ..., shift: int = ...) -> MatLike\n",
    "cv2.imshow(\"new\",horse_img)\n",
    "cv2.waitKey(1000)\n",
    "cv2.destroyAllWindows()"
   ]
  },
  {
   "cell_type": "code",
   "execution_count": 153,
   "metadata": {},
   "outputs": [],
   "source": [
    "# for rectangle\n",
    "horse_img=cv2.imread(\"/Users/mehulgupta2409/Documents/Code /AI ML/Python/AI/OpenCV/Image/Black Horse Green Field.jpg\")\n",
    "horse_img=cv2.resize(horse_img,(600,500))\n",
    "horse_updateLine_img=cv2.putText(horse_img,\"Horse\",(320,180),cv2.FONT_HERSHEY_DUPLEX,1,(180,244,120),3,cv2.LINE_4,False)\n",
    "# (img: MatLike, text: str, org: Point, fontFace: int, fontScale: float, color: Scalar, thickness: int = ..., lineType: int = ..., bottomLeftOrigin: bool = ...) -> MatLike\n",
    "horse_updateLine_img=cv2.rectangle(horse_img,pt1=(320,200),pt2=(360,255),color=(255,255,0),thickness=3,lineType=cv2.LINE_4)\n",
    "# (img: MatLike, pt1: Point, pt2: Point, color: Scalar, thickness: int = ..., lineType: int = ..., shift: int = ...) -> MatLike\n",
    "# point 1 and point 2 both are from origin , point2 is opposite of point 1 (i.e on same diagonal)\n",
    "\n",
    "cv2.imshow(\"new\",horse_img)\n",
    "cv2.waitKey(1000)\n",
    "cv2.destroyAllWindows()"
   ]
  },
  {
   "cell_type": "markdown",
   "metadata": {},
   "source": [
    "### Draw Circle and Ellipse on image"
   ]
  },
  {
   "cell_type": "code",
   "execution_count": 17,
   "metadata": {},
   "outputs": [],
   "source": [
    "# for circle\n",
    "old_img=cv2.imread(\"/Users/mehulgupta2409/Documents/Code /AI ML/Python/AI/OpenCV/Image/Trees and Mountain Photo.jpg\")\n",
    "new_img=cv2.resize(old_img,(600,500))\n",
    "new_img=cv2.circle(new_img,(180,150),40,(0,0,200),-1,cv2.LINE_AA)\n",
    "# (img: MatLike, center: Point, radius: int, color: Scalar, thickness: int = ..., lineType: int = ..., shift: int = ...) -> MatLike\n",
    "# thickness =2,means outside it will increase its boundary\n",
    "# thickness negative means inside it will increase its boundary , so when we need to blur some image then we use negative thicknes\n",
    "cv2.imshow(\"My window\",new_img)\n",
    "cv2.waitKey(1000)\n",
    "cv2.destroyAllWindows()"
   ]
  },
  {
   "cell_type": "code",
   "execution_count": 41,
   "metadata": {},
   "outputs": [],
   "source": [
    "# for ellipse\n",
    "old_img=cv2.imread(\"/Users/mehulgupta2409/Documents/Code /AI ML/Python/AI/OpenCV/Image/Trees and Mountain Photo.jpg\")\n",
    "old_img=cv2.resize(old_img,(600,500))\n",
    "# (img: MatLike, text: str, org: Point, fontFace: int, fontScale: float, color: Scalar, thickness: int = ..., lineType: int = ..., bottomLeftOrigin: bool = ...) -> MatLike\n",
    "old_img=cv2.putText(old_img,\"Mehul\",(135,150),cv2.FONT_HERSHEY_COMPLEX,1,(0,0,255),2,cv2.LINE_8,False)\n",
    "new_img=cv2.ellipse(\n",
    "    img=old_img,\n",
    "    center=(180,150),\n",
    "    axes=(50,120),\n",
    "    angle=30,\n",
    "    startAngle=0,\n",
    "    endAngle=360,\n",
    "    color=(0,255,0),\n",
    "    thickness=3,\n",
    "    lineType=cv2.LINE_8\n",
    "    )\n",
    "# (img: MatLike, center: Point, radius: int, color: Scalar, thickness: int = ..., lineType: int = ..., shift: int = ...) -> MatLike\n",
    "# thickness =2,means outside it will increase its boundary\n",
    "# thickness negative means inside it will increase its boundary (completely at any negative value), so when we need to blur some image then we use negative thicknes\n",
    "cv2.imshow(\"My window\",new_img)\n",
    "cv2.waitKey(1000)\n",
    "cv2.destroyAllWindows()"
   ]
  },
  {
   "cell_type": "code",
   "execution_count": null,
   "metadata": {},
   "outputs": [],
   "source": [
    "1/4\n",
    "(img: MatLike, center: Point, axes: Size, angle: float, startAngle: float, endAngle: float, color: Scalar, thickness: int = ..., lineType: int = ..., shift: int = ...) -> MatLike"
   ]
  },
  {
   "cell_type": "markdown",
   "metadata": {},
   "source": [
    "### Draw polygon on Images"
   ]
  },
  {
   "cell_type": "code",
   "execution_count": 54,
   "metadata": {},
   "outputs": [],
   "source": [
    "# for polygon\n",
    "old_img=cv2.imread(\"/Users/mehulgupta2409/Documents/Code /AI ML/Python/AI/OpenCV/Image/Trees and Mountain Photo.jpg\")\n",
    "old_img=cv2.resize(old_img,(600,500))\n",
    "new_img=cv2.polylines(old_img,[np.array([[150,100],[190,80],[230,100],[210,150],[170,150]])],True,(255,255,0),5,cv2.LINE_8)\n",
    "# (img: MatLike, pts: Sequence[MatLike], isClosed: bool, color: Scalar, thickness: int = ..., lineType: int = ..., shift: int = ...) -> MatLike\n",
    "cv2.imshow(\"New window\",new_img)\n",
    "cv2.waitKey(1000)\n",
    "cv2.destroyAllWindows()"
   ]
  },
  {
   "cell_type": "markdown",
   "metadata": {},
   "source": [
    "## Arithmetic Operations on Image using OpenCV"
   ]
  },
  {
   "cell_type": "code",
   "execution_count": 72,
   "metadata": {},
   "outputs": [],
   "source": [
    "img_1=cv2.imread(\"/Users/mehulgupta2409/Documents/Code /AI ML/Python/AI/OpenCV/Image/Peacock Blue Green Brown.jpg\")\n",
    "img_2=cv2.imread(\"/Users/mehulgupta2409/Documents/Code /AI ML/Python/AI/OpenCV/Image/Trees and Mountain Photo.jpg\")\n",
    "# important - we need to make their sizes same\n",
    "img_1=cv2.resize(img_1,(500,500))\n",
    "img_2=cv2.resize(img_2,(500,500))\n",
    "# adding image, according to their intensity\n",
    "img_3=cv2.addWeighted(img_1,0.8,img_2,0.8,1)\n",
    "# (src1: MatLike, alpha: float, src2: MatLike, beta: float, gamma: float, dst: MatLike | None = ..., dtype: int = ...) -> MatLike\n",
    "img_3=cv2.subtract(img_2,img_1)\n",
    "# (src1: MatLike, src2: MatLike, dst: MatLike | None = ..., mask: MatLike | None = ..., dtype: int = ...) -> MatLike\n",
    "cv2.imshow(\"my\",img_3)\n",
    "cv2.waitKey(1000)\n",
    "cv2.destroyAllWindows()"
   ]
  },
  {
   "cell_type": "markdown",
   "metadata": {},
   "source": [
    "### Bitwise Operation on Images using OpenCV (on Binary Images - where only 2 color is used)"
   ]
  },
  {
   "cell_type": "code",
   "execution_count": 84,
   "metadata": {},
   "outputs": [],
   "source": [
    "# resizeing both image\n",
    "img_new_1=cv2.imread(\"/Users/mehulgupta2409/Documents/Code /AI ML/Python/AI/OpenCV/Image/Binary Grid 12x12.png\")\n",
    "img_new_2=cv2.imread(\"/Users/mehulgupta2409/Documents/Code /AI ML/Python/AI/OpenCV/Image/Binary Icon 30.png\")\n",
    "img_new_1=cv2.resize(img_new_1,(500,500))\n",
    "img_new_2=cv2.resize(img_new_2,(500,500))\n",
    "new=cv2.bitwise_and(img_new_1,img_new_2)\n",
    "combine=np.hstack((img_new_1,img_new_2,new))\n",
    "cv2.imshow(\"file\",combine)\n",
    "cv2.waitKey(1000)\n",
    "cv2.destroyAllWindows()"
   ]
  },
  {
   "cell_type": "code",
   "execution_count": 89,
   "metadata": {},
   "outputs": [],
   "source": [
    "# resizeing both image\n",
    "img_new_1=cv2.imread(\"/Users/mehulgupta2409/Documents/Code /AI ML/Python/AI/OpenCV/Image/Binary Grid 12x12.png\")\n",
    "img_new_2=cv2.imread(\"/Users/mehulgupta2409/Documents/Code /AI ML/Python/AI/OpenCV/Image/Binary Icon 30.png\")\n",
    "img_new_1=cv2.resize(img_new_1,(500,500))\n",
    "img_new_2=cv2.resize(img_new_2,(500,500))\n",
    "new=cv2.bitwise_or(img_new_1,img_new_2)\n",
    "combine=np.hstack((img_new_1,img_new_2,new))\n",
    "cv2.imshow(\"file\",combine)\n",
    "cv2.waitKey(1000)\n",
    "cv2.destroyAllWindows()"
   ]
  },
  {
   "cell_type": "code",
   "execution_count": 87,
   "metadata": {},
   "outputs": [],
   "source": [
    "# resizeing both image\n",
    "img_new_1=cv2.imread(\"/Users/mehulgupta2409/Documents/Code /AI ML/Python/AI/OpenCV/Image/Binary Grid 12x12.png\")\n",
    "img_new_2=cv2.imread(\"/Users/mehulgupta2409/Documents/Code /AI ML/Python/AI/OpenCV/Image/Binary Icon 30.png\")\n",
    "img_new_1=cv2.resize(img_new_1,(500,500))\n",
    "img_new_2=cv2.resize(img_new_2,(500,500))\n",
    "new_1=cv2.bitwise_not(img_new_1)\n",
    "new_2=cv2.bitwise_not(img_new_2)\n",
    "combine_1=np.hstack((img_new_1,new_1))\n",
    "combine_2=np.hstack((img_new_2,new_2))\n",
    "vert_combine=np.vstack((combine_1,combine_2))\n",
    "cv2.imshow(\"file\",vert_combine)\n",
    "cv2.waitKey(1000)\n",
    "cv2.destroyAllWindows()"
   ]
  },
  {
   "cell_type": "code",
   "execution_count": 88,
   "metadata": {},
   "outputs": [],
   "source": [
    "# resizeing both image\n",
    "img_new_1=cv2.imread(\"/Users/mehulgupta2409/Documents/Code /AI ML/Python/AI/OpenCV/Image/Binary Grid 12x12.png\")\n",
    "img_new_2=cv2.imread(\"/Users/mehulgupta2409/Documents/Code /AI ML/Python/AI/OpenCV/Image/Binary Icon 30.png\")\n",
    "img_new_1=cv2.resize(img_new_1,(500,500))\n",
    "img_new_2=cv2.resize(img_new_2,(500,500))\n",
    "new=cv2.bitwise_xor(img_new_1,img_new_2)\n",
    "combine=np.hstack((img_new_1,img_new_2,new))\n",
    "cv2.imshow(\"file\",combine)\n",
    "cv2.waitKey(1000)\n",
    "cv2.destroyAllWindows()"
   ]
  },
  {
   "cell_type": "code",
   "execution_count": 93,
   "metadata": {},
   "outputs": [],
   "source": [
    "img_new_1=cv2.imread(\"/Users/mehulgupta2409/Documents/Code /AI ML/Python/AI/OpenCV/Image/Black Horse Green Field.jpg\")\n",
    "img_new_1=cv2.resize(img_new_1,(700,500))\n",
    "img_new_1=cv2.bitwise_not(img_new_1)\n",
    "cv2.imshow(\"ef\",img_new_1)\n",
    "cv2.waitKey(1000)\n",
    "cv2.destroyAllWindows()"
   ]
  },
  {
   "cell_type": "markdown",
   "metadata": {},
   "source": [
    "### Edge Detection in an Image using OpenCV"
   ]
  },
  {
   "cell_type": "code",
   "execution_count": 136,
   "metadata": {},
   "outputs": [
    {
     "name": "stdout",
     "output_type": "stream",
     "text": [
      "(400, 600)\n",
      "(400, 600, 3)\n"
     ]
    }
   ],
   "source": [
    "img=cv2.imread(\"/Users/mehulgupta2409/Documents/Code /AI ML/Python/AI/OpenCV/Image/Face Photo 2379005.jpeg\")\n",
    "img=cv2.resize(img,(600,400))\n",
    "new_img=cv2.Canny(img,102,100,apertureSize=5,L2gradient=True)\n",
    "print(new_img.shape)\n",
    "print(img.shape)\n",
    "cv2.imshow(\"NEmW\",img)\n",
    "cv2.imshow(\"NEW\",new_img)\n",
    "cv2.waitKey(1000)\n",
    "cv2.destroyAllWindows()"
   ]
  },
  {
   "cell_type": "markdown",
   "metadata": {},
   "source": [
    "### Image Scaling,Rotating using OpenCV"
   ]
  },
  {
   "cell_type": "code",
   "execution_count": 154,
   "metadata": {},
   "outputs": [],
   "source": [
    "# Rotating the image\n",
    "img=cv2.imread(\"/Users/mehulgupta2409/Documents/Code /AI ML/Python/AI/OpenCV/Image/Trees and Mountain Photo.jpg\")\n",
    "img=cv2.resize(img,(600,500))\n",
    "mass=cv2.getRotationMatrix2D((300,250),90,1)\n",
    "# now we need to rotate img by (multiplying) this 2 image\n",
    "new_img=cv2.warpAffine(img,mass,(600,500))\n",
    "# new_img\n",
    "cv2.imshow(\"nee\",new_img)\n",
    "cv2.waitKey(1000)\n",
    "cv2.destroyAllWindows()"
   ]
  },
  {
   "cell_type": "markdown",
   "metadata": {},
   "source": [
    "### Image Blurring using OpenCV"
   ]
  },
  {
   "cell_type": "code",
   "execution_count": 155,
   "metadata": {},
   "outputs": [],
   "source": [
    "# Gaussian Blur\n",
    "# Median Blur\n",
    "# Bilateral Blur"
   ]
  },
  {
   "cell_type": "code",
   "execution_count": 189,
   "metadata": {},
   "outputs": [],
   "source": [
    "img=cv2.imread(\"/Users/mehulgupta2409/Documents/Code /AI ML/Python/AI/OpenCV/Image/Wide Angle Road Photo.jpg\")\n",
    "img=cv2.resize(img,(500,500))\n",
    "# new_img=cv2.GaussianBlur(img,(7,7),0)\n",
    "# new_img=cv2.medianBlur(img,3)\n",
    "new_img=cv2.bilateralFilter(img,9,100,100)\n",
    "h=np.hstack((img,new_img))\n",
    "cv2.imshow(\"a\",h)\n",
    "cv2.waitKey(1000)\n",
    "cv2.destroyAllWindows()"
   ]
  },
  {
   "cell_type": "markdown",
   "metadata": {},
   "source": [
    "### imwrite method using OpenCV"
   ]
  },
  {
   "cell_type": "code",
   "execution_count": 207,
   "metadata": {},
   "outputs": [],
   "source": [
    "img=cv2.imread(\"/Users/mehulgupta2409/Documents/Code /AI ML/Python/AI/OpenCV/Image/Peacock Blue Green Brown.jpg\")"
   ]
  },
  {
   "cell_type": "code",
   "execution_count": 216,
   "metadata": {},
   "outputs": [
    {
     "data": {
      "text/plain": [
       "True"
      ]
     },
     "execution_count": 216,
     "metadata": {},
     "output_type": "execute_result"
    }
   ],
   "source": [
    "img=cv2.resize(img,(400,300))\n",
    "h=np.hstack((img,img))\n",
    "v=np.vstack((h,h))\n",
    "# v.shape\n",
    "cv2.imshow(\"d\",v)\n",
    "cv2.waitKey(1000)\n",
    "cv2.destroyAllWindows()\n",
    "cv2.imwrite(\"/Users/mehulgupta2409/Downloads/mehul.png\",v)"
   ]
  },
  {
   "cell_type": "markdown",
   "metadata": {},
   "source": [
    "### Make Border using OpenCV"
   ]
  },
  {
   "cell_type": "code",
   "execution_count": 246,
   "metadata": {},
   "outputs": [],
   "source": [
    "# giving border to image\n",
    "img=cv2.imread(\"/Users/mehulgupta2409/Documents/Code /AI ML/Python/AI/OpenCV/Image/Face Photo 2379005.jpeg\")\n",
    "img=cv2.resize(img,(500,400))\n",
    "img_1=cv2.copyMakeBorder(img,20,20,20,20,cv2.BORDER_CONSTANT,None,2)\n",
    "img_1=cv2.resize(img_1,(500,400))\n",
    "img_2=cv2.copyMakeBorder(img,20,20,20,20,cv2.BORDER_DEFAULT,None,2)\n",
    "img_2=cv2.resize(img_2,(500,400))\n",
    "img_3=cv2.copyMakeBorder(img,20,20,20,20,cv2.BORDER_REFLECT_101,None,2)\n",
    "img_3=cv2.resize(img_3,(500,400))\n",
    "# img_2=\n",
    "# img_3=\n",
    "# img_4=\n",
    "h=np.hstack((img,img_1,img_2,img_3))\n",
    "cv2.imshow(\"d\",h)\n",
    "cv2.waitKey(1000)\n",
    "cv2.destroyAllWindows()"
   ]
  },
  {
   "cell_type": "markdown",
   "metadata": {},
   "source": [
    "### Play a video using OpenCV"
   ]
  },
  {
   "cell_type": "code",
   "execution_count": 12,
   "metadata": {},
   "outputs": [],
   "source": [
    "# self video (camera)\n",
    "cap=cv2.VideoCapture(0)\n",
    "while True:\n",
    "    r,frame=cap.read()  #r is a boolean value ,if false then it means that vieo is not working any more,frame is image at that instant\n",
    "    if r==False:\n",
    "        break\n",
    "    cv2.imshow(\"My camera\",frame)\n",
    "    if cv2.waitKey(0) & 0xff==ord(\"p\"): # oxff is the code word, ord is order , means when pressing p , loops get break , means video stop working\n",
    "        break\n",
    "cap.release()\n",
    "cv2.destroyAllWindows()"
   ]
  },
  {
   "cell_type": "code",
   "execution_count": 9,
   "metadata": {},
   "outputs": [],
   "source": [
    "# video\n",
    "cap=cv2.VideoCapture(\"/Users/mehulgupta2409/Documents/Code /AI ML/AI/OpenCV/Videos/Big Waves Drone View.mp4\")\n",
    "while cap.isOpened():\n",
    "# or we can use while True: also\n",
    "    r,frame=cap.read()\n",
    "    if r==False:\n",
    "        break\n",
    "    cv2.imshow(\"My camera\",frame)\n",
    "    if cv2.waitKey(1) & 0xff==ord(\"e\"):\n",
    "        break\n",
    "cap.release()\n",
    "cv2.destroyAllWindows()"
   ]
  },
  {
   "cell_type": "markdown",
   "metadata": {},
   "source": [
    "### Slow and Fast motion video"
   ]
  },
  {
   "cell_type": "code",
   "execution_count": 12,
   "metadata": {},
   "outputs": [],
   "source": [
    "video = cv2.VideoCapture(\"/Users/mehulgupta2409/Documents/Code /AI ML/AI/OpenCV/Videos/Forest Waterfall Video.mp4\")\n",
    "while video.isOpened():\n",
    "# or we can use while True: also\n",
    "    r,frame=video.read()\n",
    "    if r==False:\n",
    "        break\n",
    "    frame=cv2.resize(frame,(1000,500))\n",
    "    cv2.imshow(\"My camera\",frame)\n",
    "    if cv2.waitKey(1) & 0xff==ord(\"e\"):\n",
    "        break\n",
    "video.release()\n",
    "cv2.destroyAllWindows()"
   ]
  },
  {
   "cell_type": "code",
   "execution_count": 1,
   "metadata": {},
   "outputs": [],
   "source": [
    "#e"
   ]
  },
  {
   "cell_type": "markdown",
   "metadata": {},
   "source": [
    "## ed"
   ]
  },
  {
   "cell_type": "markdown",
   "metadata": {},
   "source": []
  }
 ],
 "metadata": {
  "kernelspec": {
   "display_name": "base",
   "language": "python",
   "name": "python3"
  },
  "language_info": {
   "codemirror_mode": {
    "name": "ipython",
    "version": 3
   },
   "file_extension": ".py",
   "mimetype": "text/x-python",
   "name": "python",
   "nbconvert_exporter": "python",
   "pygments_lexer": "ipython3",
   "version": "3.12.4"
  }
 },
 "nbformat": 4,
 "nbformat_minor": 2
}
